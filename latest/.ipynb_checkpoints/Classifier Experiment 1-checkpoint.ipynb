{
 "cells": [
  {
   "cell_type": "markdown",
   "metadata": {},
   "source": [
    "# Overview"
   ]
  },
  {
   "cell_type": "markdown",
   "metadata": {},
   "source": [
    "The following notebook supports a study of classifier methods used in contemporary machine learning. This specific experiment provides python implementations as a basis for comparisons of performance using the same dataset and evaluation criteria. This is by no means exhaustive, but illustrative in the differences between each method, and informative in which perform better on different types of data."
   ]
  },
  {
   "cell_type": "markdown",
   "metadata": {},
   "source": [
    "## Data"
   ]
  },
  {
   "cell_type": "markdown",
   "metadata": {},
   "source": [
    "The data being used for this experiment is part of the sci-kit package, the MNIST images of handwritten digits. It is often used in machine learning as a validation set as it is a known quantity, comes cleansed, labeled, and packaged with sci-kit. It contains 60,000 training images and 10,000 test images."
   ]
  },
  {
   "cell_type": "code",
   "execution_count": 1,
   "metadata": {
    "ExecuteTime": {
     "end_time": "2017-12-02T22:23:20.933429Z",
     "start_time": "2017-12-02T22:23:19.715797Z"
    },
    "collapsed": true
   },
   "outputs": [],
   "source": [
    "#Data setup\n",
    "from sklearn.datasets import fetch_mldata\n",
    "mnist_dataset = fetch_mldata('MNIST original')"
   ]
  },
  {
   "cell_type": "code",
   "execution_count": 2,
   "metadata": {
    "ExecuteTime": {
     "end_time": "2017-12-02T22:23:23.147418Z",
     "start_time": "2017-12-02T22:23:23.135363Z"
    }
   },
   "outputs": [
    {
     "data": {
      "text/plain": [
       "['COL_NAMES', 'DESCR', 'data', 'target']"
      ]
     },
     "execution_count": 2,
     "metadata": {},
     "output_type": "execute_result"
    }
   ],
   "source": [
    "dir(mnist_dataset)"
   ]
  },
  {
   "cell_type": "code",
   "execution_count": 3,
   "metadata": {
    "ExecuteTime": {
     "end_time": "2017-12-02T22:23:25.537189Z",
     "start_time": "2017-12-02T22:23:25.531713Z"
    }
   },
   "outputs": [
    {
     "data": {
      "text/plain": [
       "(70000, 784)"
      ]
     },
     "execution_count": 3,
     "metadata": {},
     "output_type": "execute_result"
    }
   ],
   "source": [
    "X, y = mnist_dataset['data'], mnist_dataset['target']\n",
    "X.shape"
   ]
  },
  {
   "cell_type": "code",
   "execution_count": 4,
   "metadata": {
    "ExecuteTime": {
     "end_time": "2017-12-02T22:23:27.221971Z",
     "start_time": "2017-12-02T22:23:27.217819Z"
    }
   },
   "outputs": [
    {
     "data": {
      "text/plain": [
       "(70000,)"
      ]
     },
     "execution_count": 4,
     "metadata": {},
     "output_type": "execute_result"
    }
   ],
   "source": [
    "y.shape"
   ]
  },
  {
   "cell_type": "code",
   "execution_count": 5,
   "metadata": {
    "ExecuteTime": {
     "end_time": "2017-11-25T21:45:58.490137Z",
     "start_time": "2017-11-25T21:45:58.476172Z"
    }
   },
   "outputs": [
    {
     "data": {
      "text/plain": [
       "array([  0,   0,   0,   0,   0,   0,   0,   0,   0,   0,   0,   0,   0,\n",
       "         0,   0,   0,   0,   0,   0,   0,   0,   0,   0,   0,   0,   0,\n",
       "         0,   0,   0,   0,   0,   0,   0,   0,   0,   0,   0,   0,   0,\n",
       "         0,   0,   0,   0,   0,   0,   0,   0,   0,   0,   0,   0,   0,\n",
       "         0,   0,   0,   0,   0,   0,   0,   0,   0,   0,   0,   0,   0,\n",
       "         0,   0,   0,   0,   0,   0,   0,   0,   0,   0,   0,   0,   0,\n",
       "         0,   0,   0,   0,   0,   0,   0,   0,   0,   0,   0,   0,   0,\n",
       "         0,   0,   0,   0,   0,   0,   0,   0,   0,   0,   0,   0,   0,\n",
       "         0,   0,   0,   0,   0,   0,   0,   0,   0,   0,   0,   0,   0,\n",
       "         0,   0,   0,   0,   0,   0,   0,   0,   0,   0,   0,   0,   0,\n",
       "         0,   0,   0,   0,   0,   0,   0,   0,   0,   0,   0,   0,   0,\n",
       "         0,   0,   0,   0,   0,   0,   0,   0,   0,   0,   0,   0,   0,\n",
       "         0,   0,   0,  86, 131, 225, 225, 225,   0,   0,   0,   0,   0,\n",
       "         0,   0,   0,   0,   0,   0,   0,   0,   0,   0,   0,   0,   0,\n",
       "         0,   0,  13,  73, 197, 253, 252, 252, 252, 252,   0,   0,   0,\n",
       "         0,   0,   0,   0,   0,   0,   0,   0,   0,   0,   0,   0,   0,\n",
       "         4,  29,  29, 154, 187, 252, 252, 253, 252, 252, 233, 145,   0,\n",
       "         0,   0,   0,   0,   0,   0,   0,   0,   0,   0,   0,   0,   0,\n",
       "         0,   0,  29, 252, 253, 252, 252, 252, 252, 253, 204, 112,  37,\n",
       "         0,   0,   0,   0,   0,   0,   0,   0,   0,   0,   0,   0,   0,\n",
       "         0,   0,   0,   0, 169, 253, 255, 253, 228, 126,   0,   0,   0,\n",
       "         0,   0,   0,   0,   0,   0,   0,   0,   0,   0,   0,   0,   0,\n",
       "         0,   0,   0,   0,   0,  98, 243, 252, 253, 252, 246, 130,  38,\n",
       "         0,   0,   0,   0,   0,   0,   0,   0,   0,   0,   0,   0,   0,\n",
       "         0,   0,   0,   0,   0,   0,  98, 240, 252, 252, 253, 252, 252,\n",
       "       252, 221,   0,   0,   0,   0,   0,   0,   0,   0,   0,   0,   0,\n",
       "         0,   0,   0,   0,   0,   0,   0,   0, 225, 252, 252, 236, 225,\n",
       "       223, 230, 252, 252,   0,   0,   0,   0,   0,   0,   0,   0,   0,\n",
       "         0,   0,   0,   0,   0,   0,   0,   0,   0,   0, 146, 252, 157,\n",
       "        50,   0,   0,  25, 205, 252,   0,   0,   0,   0,   0,   0,   0,\n",
       "         0,   0,   0,   0,   0,   0,   0,   0,   0,   0,   0,   0,   0,\n",
       "         0,   0,   0,   0,   0,  26, 207, 253,   0,   0,   0,   0,   0,\n",
       "         0,   0,   0,   0,   0,   0,   0,   0,   0,  29,  19,   0,   0,\n",
       "         0,   0,   0,   0,   0,   0,   0,  73, 205, 252,  79,   0,   0,\n",
       "         0,   0,   0,   0,   0,   0,   0,   0,   0,   0, 120, 215, 209,\n",
       "       175,   0,   0,   0,   0,   0,   0,   0,  19, 209, 252, 220,  79,\n",
       "         0,   0,   0,   0,   0,   0,   0,   0,   0,   0,   0,   0, 174,\n",
       "       252, 252, 239, 140,   0,   0,   0,   0,   0,  29, 104, 252, 249,\n",
       "       177,   0,   0,   0,   0,   0,   0,   0,   0,   0,   0,   0,   0,\n",
       "         0, 174, 252, 252, 223,   0,   0,   0,   0,   0,   0, 174, 252,\n",
       "       252, 223,   0,   0,   0,   0,   0,   0,   0,   0,   0,   0,   0,\n",
       "         0,   0,   0, 141, 241, 253, 146,   0,   0,   0,   0, 169, 253,\n",
       "       255, 253, 253,  84,   0,   0,   0,   0,   0,   0,   0,   0,   0,\n",
       "         0,   0,   0,   0,   0,   0, 178, 252, 154,  85,  85, 210, 225,\n",
       "       243, 252, 215, 121,  27,   9,   0,   0,   0,   0,   0,   0,   0,\n",
       "         0,   0,   0,   0,   0,   0,   0,   0,  66, 208, 220, 252, 253,\n",
       "       252, 252, 214, 195,  31,   0,   0,   0,   0,   0,   0,   0,   0,\n",
       "         0,   0,   0,   0,   0,   0,   0,   0,   0,   0,   0,  19,  37,\n",
       "        84, 146, 223, 114,  28,   0,   0,   0,   0,   0,   0,   0,   0,\n",
       "         0,   0,   0,   0,   0,   0,   0,   0,   0,   0,   0,   0,   0,\n",
       "         0,   0,   0,   0,   0,   0,   0,   0,   0,   0,   0,   0,   0,\n",
       "         0,   0,   0,   0,   0,   0,   0,   0,   0,   0,   0,   0,   0,\n",
       "         0,   0,   0,   0,   0,   0,   0,   0,   0,   0,   0,   0,   0,\n",
       "         0,   0,   0,   0,   0,   0,   0,   0,   0,   0,   0,   0,   0,\n",
       "         0,   0,   0,   0,   0,   0,   0,   0,   0,   0,   0,   0,   0,\n",
       "         0,   0,   0,   0,   0,   0,   0,   0,   0,   0,   0,   0,   0,\n",
       "         0,   0,   0,   0,   0,   0,   0,   0,   0,   0,   0,   0,   0,\n",
       "         0,   0,   0,   0,   0,   0,   0,   0,   0,   0,   0,   0,   0,\n",
       "         0,   0,   0,   0,   0,   0,   0,   0,   0,   0,   0,   0,   0,\n",
       "         0,   0,   0,   0,   0,   0,   0,   0,   0,   0,   0,   0,   0,\n",
       "         0,   0,   0,   0], dtype=uint8)"
      ]
     },
     "execution_count": 5,
     "metadata": {},
     "output_type": "execute_result"
    }
   ],
   "source": [
    "#Let us examine the raw data of a single image\n",
    "X[36000]"
   ]
  },
  {
   "cell_type": "code",
   "execution_count": 5,
   "metadata": {
    "ExecuteTime": {
     "end_time": "2017-12-02T22:23:32.868524Z",
     "start_time": "2017-12-02T22:23:32.855346Z"
    }
   },
   "outputs": [
    {
     "data": {
      "text/plain": [
       "array([[  0,   0,   0,   0,   0,   0,   0,   0,   0,   0,   0,   0,   0,\n",
       "          0,   0,   0,   0,   0,   0,   0,   0,   0,   0,   0,   0,   0,\n",
       "          0,   0],\n",
       "       [  0,   0,   0,   0,   0,   0,   0,   0,   0,   0,   0,   0,   0,\n",
       "          0,   0,   0,   0,   0,   0,   0,   0,   0,   0,   0,   0,   0,\n",
       "          0,   0],\n",
       "       [  0,   0,   0,   0,   0,   0,   0,   0,   0,   0,   0,   0,   0,\n",
       "          0,   0,   0,   0,   0,   0,   0,   0,   0,   0,   0,   0,   0,\n",
       "          0,   0],\n",
       "       [  0,   0,   0,   0,   0,   0,   0,   0,   0,   0,   0,   0,   0,\n",
       "          0,   0,   0,   0,   0,   0,   0,   0,   0,   0,   0,   0,   0,\n",
       "          0,   0],\n",
       "       [  0,   0,   0,   0,   0,   0,   0,   0,   0,   0,   0,   0,   0,\n",
       "          0,   0,   0,   0,   0,   0,   0,   0,   0,   0,   0,   0,   0,\n",
       "          0,   0],\n",
       "       [  0,   0,   0,   0,   0,   0,   0,   0,   0,   0,   0,   0,   0,\n",
       "          0,   0,   0,   0,   0,   0,  86, 131, 225, 225, 225,   0,   0,\n",
       "          0,   0],\n",
       "       [  0,   0,   0,   0,   0,   0,   0,   0,   0,   0,   0,   0,   0,\n",
       "          0,   0,   0,  13,  73, 197, 253, 252, 252, 252, 252,   0,   0,\n",
       "          0,   0],\n",
       "       [  0,   0,   0,   0,   0,   0,   0,   0,   0,   0,   0,   0,   4,\n",
       "         29,  29, 154, 187, 252, 252, 253, 252, 252, 233, 145,   0,   0,\n",
       "          0,   0],\n",
       "       [  0,   0,   0,   0,   0,   0,   0,   0,   0,   0,   0,   0,  29,\n",
       "        252, 253, 252, 252, 252, 252, 253, 204, 112,  37,   0,   0,   0,\n",
       "          0,   0],\n",
       "       [  0,   0,   0,   0,   0,   0,   0,   0,   0,   0,   0,   0, 169,\n",
       "        253, 255, 253, 228, 126,   0,   0,   0,   0,   0,   0,   0,   0,\n",
       "          0,   0],\n",
       "       [  0,   0,   0,   0,   0,   0,   0,   0,   0,   0,   0,  98, 243,\n",
       "        252, 253, 252, 246, 130,  38,   0,   0,   0,   0,   0,   0,   0,\n",
       "          0,   0],\n",
       "       [  0,   0,   0,   0,   0,   0,   0,   0,   0,   0,  98, 240, 252,\n",
       "        252, 253, 252, 252, 252, 221,   0,   0,   0,   0,   0,   0,   0,\n",
       "          0,   0],\n",
       "       [  0,   0,   0,   0,   0,   0,   0,   0,   0,   0, 225, 252, 252,\n",
       "        236, 225, 223, 230, 252, 252,   0,   0,   0,   0,   0,   0,   0,\n",
       "          0,   0],\n",
       "       [  0,   0,   0,   0,   0,   0,   0,   0,   0,   0, 146, 252, 157,\n",
       "         50,   0,   0,  25, 205, 252,   0,   0,   0,   0,   0,   0,   0,\n",
       "          0,   0],\n",
       "       [  0,   0,   0,   0,   0,   0,   0,   0,   0,   0,   0,   0,   0,\n",
       "          0,   0,   0,  26, 207, 253,   0,   0,   0,   0,   0,   0,   0,\n",
       "          0,   0],\n",
       "       [  0,   0,   0,   0,   0,  29,  19,   0,   0,   0,   0,   0,   0,\n",
       "          0,   0,   0,  73, 205, 252,  79,   0,   0,   0,   0,   0,   0,\n",
       "          0,   0],\n",
       "       [  0,   0,   0,   0, 120, 215, 209, 175,   0,   0,   0,   0,   0,\n",
       "          0,   0,  19, 209, 252, 220,  79,   0,   0,   0,   0,   0,   0,\n",
       "          0,   0],\n",
       "       [  0,   0,   0,   0, 174, 252, 252, 239, 140,   0,   0,   0,   0,\n",
       "          0,  29, 104, 252, 249, 177,   0,   0,   0,   0,   0,   0,   0,\n",
       "          0,   0],\n",
       "       [  0,   0,   0,   0, 174, 252, 252, 223,   0,   0,   0,   0,   0,\n",
       "          0, 174, 252, 252, 223,   0,   0,   0,   0,   0,   0,   0,   0,\n",
       "          0,   0],\n",
       "       [  0,   0,   0,   0, 141, 241, 253, 146,   0,   0,   0,   0, 169,\n",
       "        253, 255, 253, 253,  84,   0,   0,   0,   0,   0,   0,   0,   0,\n",
       "          0,   0],\n",
       "       [  0,   0,   0,   0,   0, 178, 252, 154,  85,  85, 210, 225, 243,\n",
       "        252, 215, 121,  27,   9,   0,   0,   0,   0,   0,   0,   0,   0,\n",
       "          0,   0],\n",
       "       [  0,   0,   0,   0,   0,  66, 208, 220, 252, 253, 252, 252, 214,\n",
       "        195,  31,   0,   0,   0,   0,   0,   0,   0,   0,   0,   0,   0,\n",
       "          0,   0],\n",
       "       [  0,   0,   0,   0,   0,   0,  19,  37,  84, 146, 223, 114,  28,\n",
       "          0,   0,   0,   0,   0,   0,   0,   0,   0,   0,   0,   0,   0,\n",
       "          0,   0],\n",
       "       [  0,   0,   0,   0,   0,   0,   0,   0,   0,   0,   0,   0,   0,\n",
       "          0,   0,   0,   0,   0,   0,   0,   0,   0,   0,   0,   0,   0,\n",
       "          0,   0],\n",
       "       [  0,   0,   0,   0,   0,   0,   0,   0,   0,   0,   0,   0,   0,\n",
       "          0,   0,   0,   0,   0,   0,   0,   0,   0,   0,   0,   0,   0,\n",
       "          0,   0],\n",
       "       [  0,   0,   0,   0,   0,   0,   0,   0,   0,   0,   0,   0,   0,\n",
       "          0,   0,   0,   0,   0,   0,   0,   0,   0,   0,   0,   0,   0,\n",
       "          0,   0],\n",
       "       [  0,   0,   0,   0,   0,   0,   0,   0,   0,   0,   0,   0,   0,\n",
       "          0,   0,   0,   0,   0,   0,   0,   0,   0,   0,   0,   0,   0,\n",
       "          0,   0],\n",
       "       [  0,   0,   0,   0,   0,   0,   0,   0,   0,   0,   0,   0,   0,\n",
       "          0,   0,   0,   0,   0,   0,   0,   0,   0,   0,   0,   0,   0,\n",
       "          0,   0]], dtype=uint8)"
      ]
     },
     "execution_count": 5,
     "metadata": {},
     "output_type": "execute_result"
    }
   ],
   "source": [
    "random_digit = X[36000]\n",
    "#Reshape to 28 x 28 for the 784 available features\n",
    "random_digit_image = random_digit.reshape(28,28)\n",
    "random_digit_image"
   ]
  },
  {
   "cell_type": "code",
   "execution_count": 6,
   "metadata": {
    "ExecuteTime": {
     "end_time": "2017-12-02T22:23:38.934625Z",
     "start_time": "2017-12-02T22:23:38.368751Z"
    }
   },
   "outputs": [
    {
     "data": {
      "text/plain": [
       "<matplotlib.image.AxesImage at 0x1162486d8>"
      ]
     },
     "execution_count": 6,
     "metadata": {},
     "output_type": "execute_result"
    },
    {
     "data": {
      "image/png": "[encoded data removed]",
      "text/plain": [
       "<matplotlib.figure.Figure at 0x111ac7400>"
      ]
     },
     "metadata": {},
     "output_type": "display_data"
    }
   ],
   "source": [
    "#Let's plot to see what the actual image looks like\n",
    "%matplotlib inline\n",
    "import matplotlib\n",
    "import matplotlib.pyplot as plt\n",
    "plt.imshow(random_digit_image, cmap='gray')"
   ]
  },
  {
   "cell_type": "code",
   "execution_count": 7,
   "metadata": {
    "ExecuteTime": {
     "end_time": "2017-12-02T22:23:41.950672Z",
     "start_time": "2017-12-02T22:23:41.945427Z"
    }
   },
   "outputs": [
    {
     "data": {
      "text/plain": [
       "5.0"
      ]
     },
     "execution_count": 7,
     "metadata": {},
     "output_type": "execute_result"
    }
   ],
   "source": [
    "#Check the label\n",
    "y[36000]"
   ]
  },
  {
   "cell_type": "markdown",
   "metadata": {},
   "source": [
    "Now that the dataset is established, we now split into training and test sets. There are a variety of means of handling this including more advanced techniques like stratified sampling. For the sake of simplicity and abstraction we use the split capabilities of sklearn."
   ]
  },
  {
   "cell_type": "code",
   "execution_count": 8,
   "metadata": {
    "ExecuteTime": {
     "end_time": "2017-12-02T22:23:53.521150Z",
     "start_time": "2017-12-02T22:23:53.432016Z"
    },
    "collapsed": true
   },
   "outputs": [],
   "source": [
    "from sklearn.model_selection import train_test_split\n",
    "X_train, X_test, y_train, y_test = train_test_split(mnist_dataset.data, mnist_dataset.target, \n",
    "                                                    test_size=0.1, random_state=0)"
   ]
  },
  {
   "cell_type": "code",
   "execution_count": 9,
   "metadata": {
    "ExecuteTime": {
     "end_time": "2017-12-02T22:23:55.584623Z",
     "start_time": "2017-12-02T22:23:55.580624Z"
    }
   },
   "outputs": [
    {
     "data": {
      "text/plain": [
       "(63000, 784)"
      ]
     },
     "execution_count": 9,
     "metadata": {},
     "output_type": "execute_result"
    }
   ],
   "source": [
    "X_train.shape"
   ]
  },
  {
   "cell_type": "code",
   "execution_count": 10,
   "metadata": {
    "ExecuteTime": {
     "end_time": "2017-12-02T22:23:57.599354Z",
     "start_time": "2017-12-02T22:23:57.594746Z"
    }
   },
   "outputs": [
    {
     "data": {
      "text/plain": [
       "(7000, 784)"
      ]
     },
     "execution_count": 10,
     "metadata": {},
     "output_type": "execute_result"
    }
   ],
   "source": [
    "X_test.shape"
   ]
  },
  {
   "cell_type": "markdown",
   "metadata": {},
   "source": [
    "# Logistic Regression"
   ]
  },
  {
   "cell_type": "code",
   "execution_count": 11,
   "metadata": {
    "ExecuteTime": {
     "end_time": "2017-12-02T22:24:03.064749Z",
     "start_time": "2017-12-02T22:24:02.972658Z"
    },
    "collapsed": true
   },
   "outputs": [],
   "source": [
    "from sklearn.linear_model import LogisticRegression\n",
    "logregress = LogisticRegression(solver = 'lbfgs')"
   ]
  },
  {
   "cell_type": "code",
   "execution_count": 12,
   "metadata": {
    "ExecuteTime": {
     "end_time": "2017-12-02T22:24:48.159826Z",
     "start_time": "2017-12-02T22:24:04.288463Z"
    }
   },
   "outputs": [
    {
     "data": {
      "text/plain": [
       "LogisticRegression(C=1.0, class_weight=None, dual=False, fit_intercept=True,\n",
       "          intercept_scaling=1, max_iter=100, multi_class='ovr', n_jobs=1,\n",
       "          penalty='l2', random_state=None, solver='lbfgs', tol=0.0001,\n",
       "          verbose=0, warm_start=False)"
      ]
     },
     "execution_count": 12,
     "metadata": {},
     "output_type": "execute_result"
    }
   ],
   "source": [
    "#Train the model\n",
    "logregress.fit(X_train, y_train)"
   ]
  },
  {
   "cell_type": "code",
   "execution_count": 13,
   "metadata": {
    "ExecuteTime": {
     "end_time": "2017-12-02T22:24:48.202362Z",
     "start_time": "2017-12-02T22:24:48.161767Z"
    },
    "collapsed": true
   },
   "outputs": [],
   "source": [
    "#Now run predictions using the test set\n",
    "logregress_predictions = logregress.predict(X_test)"
   ]
  },
  {
   "cell_type": "code",
   "execution_count": 16,
   "metadata": {
    "ExecuteTime": {
     "end_time": "2017-12-02T22:32:29.046797Z",
     "start_time": "2017-12-02T22:32:29.008662Z"
    }
   },
   "outputs": [
    {
     "name": "stdout",
     "output_type": "stream",
     "text": [
      "0.916\n"
     ]
    }
   ],
   "source": [
    "#The mean accuracy on given test data and labels\n",
    "#In multi-label classification, this is the  accuracy for each label's correct prediction\n",
    "logregress_score = logregress.score(X_test, y_test)\n",
    "print (logregress_score)"
   ]
  },
  {
   "cell_type": "code",
   "execution_count": 15,
   "metadata": {
    "ExecuteTime": {
     "end_time": "2017-12-02T22:24:48.238703Z",
     "start_time": "2017-12-02T22:24:48.232630Z"
    }
   },
   "outputs": [
    {
     "data": {
      "text/plain": [
       "array([ 0.,  1.,  2.,  3.,  4.,  5.,  6.,  7.,  8.,  9.])"
      ]
     },
     "execution_count": 15,
     "metadata": {},
     "output_type": "execute_result"
    }
   ],
   "source": [
    "#Confirming that a multinomial model is being used\n",
    "logregress.classes_"
   ]
  },
  {
   "cell_type": "code",
   "execution_count": 28,
   "metadata": {
    "ExecuteTime": {
     "end_time": "2017-12-02T22:43:10.778336Z",
     "start_time": "2017-12-02T22:43:10.768818Z"
    }
   },
   "outputs": [
    {
     "name": "stdout",
     "output_type": "stream",
     "text": [
      "             precision    recall  f1-score   support\n",
      "\n",
      "        0.0       0.96      0.97      0.96       660\n",
      "        1.0       0.95      0.97      0.96       779\n",
      "        2.0       0.91      0.90      0.91       688\n",
      "        3.0       0.89      0.89      0.89       733\n",
      "        4.0       0.92      0.92      0.92       640\n",
      "        5.0       0.90      0.84      0.87       651\n",
      "        6.0       0.95      0.98      0.96       738\n",
      "        7.0       0.93      0.93      0.93       724\n",
      "        8.0       0.86      0.86      0.86       672\n",
      "        9.0       0.89      0.89      0.89       715\n",
      "\n",
      "avg / total       0.92      0.92      0.92      7000\n",
      "\n"
     ]
    }
   ],
   "source": [
    "#Additional performance measures\n",
    "from sklearn.metrics import classification_report\n",
    "from sklearn.metrics import confusion_matrix\n",
    "print(classification_report(y_test, logregress_predictions))"
   ]
  },
  {
   "cell_type": "code",
   "execution_count": 29,
   "metadata": {
    "ExecuteTime": {
     "end_time": "2017-12-02T22:43:40.729713Z",
     "start_time": "2017-12-02T22:43:40.717188Z"
    }
   },
   "outputs": [
    {
     "name": "stdout",
     "output_type": "stream",
     "text": [
      "Confusion matrix:\n",
      "[[640   0   2   2   2   3   5   1   5   0]\n",
      " [  0 755   5   3   1   2   3   0   9   1]\n",
      " [  1   6 622  10   5   3   7  11  23   0]\n",
      " [  0   6  20 655   0  19   2   8  16   7]\n",
      " [  5   2   3   1 588   2   7   3   4  25]\n",
      " [  4   4   9  28   9 548  13   4  24   8]\n",
      " [  3   2   4   0   3   4 720   0   2   0]\n",
      " [  4   1  10   2   7   0   0 671   3  26]\n",
      " [  4  14  10  20   3  26   3   4 578  10]\n",
      " [  7   2   1  14  24   5   0  20   7 635]]\n"
     ]
    }
   ],
   "source": [
    "#Confusion matrix. Higher values along the diagonal are better\n",
    "print(\"Confusion matrix:\\n%s\" % confusion_matrix(y_test, logregress_predictions))"
   ]
  },
  {
   "cell_type": "markdown",
   "metadata": {},
   "source": [
    "Mean accuracy: 91.6% <br>\n",
    "Precision: 92% <br>\n",
    "Recall: 92% <br>\n",
    "F1-Score: 92% <br>\n",
    "Labels with the most errors: \"3\", \"8\", \"9\" <br>"
   ]
  },
  {
   "cell_type": "markdown",
   "metadata": {},
   "source": [
    "# Stochastic Gradient Descent"
   ]
  },
  {
   "cell_type": "code",
   "execution_count": 31,
   "metadata": {
    "ExecuteTime": {
     "end_time": "2017-12-02T22:47:16.290669Z",
     "start_time": "2017-12-02T22:47:16.287844Z"
    },
    "collapsed": true
   },
   "outputs": [],
   "source": [
    "from sklearn.linear_model import SGDClassifier"
   ]
  },
  {
   "cell_type": "code",
   "execution_count": 88,
   "metadata": {
    "ExecuteTime": {
     "end_time": "2017-12-03T03:06:06.068273Z",
     "start_time": "2017-12-03T03:06:01.884155Z"
    }
   },
   "outputs": [
    {
     "data": {
      "text/plain": [
       "SGDClassifier(alpha=0.0001, average=False, class_weight=None, epsilon=0.1,\n",
       "       eta0=0.0, fit_intercept=True, l1_ratio=0.15,\n",
       "       learning_rate='optimal', loss='hinge', n_iter=5, n_jobs=1,\n",
       "       penalty='l2', power_t=0.5, random_state=42, shuffle=True, verbose=0,\n",
       "       warm_start=False)"
      ]
     },
     "execution_count": 88,
     "metadata": {},
     "output_type": "execute_result"
    }
   ],
   "source": [
    "sgd_clf = SGDClassifier(random_state=42)\n",
    "sgd_clf.fit(X_train, y_train)"
   ]
  },
  {
   "cell_type": "code",
   "execution_count": 89,
   "metadata": {
    "ExecuteTime": {
     "end_time": "2017-12-03T03:07:07.342294Z",
     "start_time": "2017-12-03T03:07:07.295626Z"
    },
    "collapsed": true
   },
   "outputs": [],
   "source": [
    "sgd_predictions = sgd_clf.predict(X_test)"
   ]
  },
  {
   "cell_type": "code",
   "execution_count": 90,
   "metadata": {
    "ExecuteTime": {
     "end_time": "2017-12-03T03:07:09.561956Z",
     "start_time": "2017-12-03T03:07:09.535401Z"
    }
   },
   "outputs": [
    {
     "name": "stdout",
     "output_type": "stream",
     "text": [
      "0.889142857143\n"
     ]
    }
   ],
   "source": [
    "sgd_score = sgd_clf.score(X_test, y_test)\n",
    "print(sgd_score)"
   ]
  },
  {
   "cell_type": "code",
   "execution_count": 91,
   "metadata": {
    "ExecuteTime": {
     "end_time": "2017-12-03T03:07:13.755991Z",
     "start_time": "2017-12-03T03:07:13.746683Z"
    }
   },
   "outputs": [
    {
     "name": "stdout",
     "output_type": "stream",
     "text": [
      "             precision    recall  f1-score   support\n",
      "\n",
      "        0.0       0.91      0.97      0.94       660\n",
      "        1.0       0.95      0.95      0.95       779\n",
      "        2.0       0.89      0.90      0.89       688\n",
      "        3.0       0.87      0.88      0.87       733\n",
      "        4.0       0.92      0.89      0.90       640\n",
      "        5.0       0.85      0.78      0.81       651\n",
      "        6.0       0.97      0.92      0.94       738\n",
      "        7.0       0.88      0.92      0.90       724\n",
      "        8.0       0.78      0.85      0.81       672\n",
      "        9.0       0.87      0.81      0.84       715\n",
      "\n",
      "avg / total       0.89      0.89      0.89      7000\n",
      "\n"
     ]
    }
   ],
   "source": [
    "print(classification_report(y_test, sgd_predictions))"
   ]
  },
  {
   "cell_type": "code",
   "execution_count": 92,
   "metadata": {
    "ExecuteTime": {
     "end_time": "2017-12-03T03:07:17.158371Z",
     "start_time": "2017-12-03T03:07:17.145853Z"
    }
   },
   "outputs": [
    {
     "name": "stdout",
     "output_type": "stream",
     "text": [
      "Confusion matrix:\n",
      "[[642   0   4   3   2   1   2   2   4   0]\n",
      " [  0 742   9   4   1   7   0   0  14   2]\n",
      " [  0   8 620  14   5   2   5  13  18   3]\n",
      " [  4   2  15 643   1  32   1  10  17   8]\n",
      " [  5   0   2   1 570   2   4   7  22  27]\n",
      " [ 13   5  10  24  12 509   8   7  57   6]\n",
      " [ 18   1  17   0   2  16 679   0   5   0]\n",
      " [  4   0   5   4  10   1   1 669   0  30]\n",
      " [  3  18  15  26   1  19   1  10 570   9]\n",
      " [ 13   1   1  23  17  13   0  43  24 580]]\n"
     ]
    }
   ],
   "source": [
    "print(\"Confusion matrix:\\n%s\" % confusion_matrix(y_test, sgd_predictions))"
   ]
  },
  {
   "cell_type": "markdown",
   "metadata": {},
   "source": [
    "Mean accuracy: 88.9% <br>\n",
    "Precision: 89% <br>\n",
    "Recall: 89% <br>\n",
    "F1-Score: 89% <br>\n",
    "Labels with the most errors: \"5\", \"3\", \"8\", \"7\" <br>"
   ]
  },
  {
   "cell_type": "markdown",
   "metadata": {},
   "source": [
    "# Scalable Vector Machine"
   ]
  },
  {
   "cell_type": "code",
   "execution_count": 93,
   "metadata": {
    "ExecuteTime": {
     "end_time": "2017-12-03T03:14:27.124199Z",
     "start_time": "2017-12-03T03:12:18.564249Z"
    }
   },
   "outputs": [
    {
     "data": {
      "text/plain": [
       "LinearSVC(C=1, class_weight=None, dual=True, fit_intercept=True,\n",
       "     intercept_scaling=1, loss='hinge', max_iter=1000, multi_class='ovr',\n",
       "     penalty='l2', random_state=None, tol=0.0001, verbose=0)"
      ]
     },
     "execution_count": 93,
     "metadata": {},
     "output_type": "execute_result"
    }
   ],
   "source": [
    "from sklearn.svm import LinearSVC\n",
    "\n",
    "scalable_vec_machine = LinearSVC(C=1, loss=\"hinge\")\n",
    "scalable_vec_machine.fit(X_train, y_train)"
   ]
  },
  {
   "cell_type": "code",
   "execution_count": 94,
   "metadata": {
    "ExecuteTime": {
     "end_time": "2017-12-03T03:14:35.162601Z",
     "start_time": "2017-12-03T03:14:35.136241Z"
    }
   },
   "outputs": [],
   "source": [
    "svm_predictions = scalable_vec_machine.predict(X_test)"
   ]
  },
  {
   "cell_type": "code",
   "execution_count": 95,
   "metadata": {
    "ExecuteTime": {
     "end_time": "2017-12-03T03:14:37.881804Z",
     "start_time": "2017-12-03T03:14:37.855913Z"
    }
   },
   "outputs": [
    {
     "name": "stdout",
     "output_type": "stream",
     "text": [
      "0.866857142857\n"
     ]
    }
   ],
   "source": [
    "svn_score = scalable_vec_machine.score(X_test, y_test)\n",
    "print(svn_score)"
   ]
  },
  {
   "cell_type": "markdown",
   "metadata": {},
   "source": [
    "Adjusting hyperparameters to try coaxing better performance"
   ]
  },
  {
   "cell_type": "code",
   "execution_count": 99,
   "metadata": {
    "ExecuteTime": {
     "end_time": "2017-12-03T03:19:48.366950Z",
     "start_time": "2017-12-03T03:17:43.480998Z"
    }
   },
   "outputs": [
    {
     "data": {
      "text/plain": [
       "LinearSVC(C=4, class_weight=None, dual=True, fit_intercept=True,\n",
       "     intercept_scaling=1, loss='hinge', max_iter=1000, multi_class='ovr',\n",
       "     penalty='l2', random_state=None, tol=0.0001, verbose=0)"
      ]
     },
     "execution_count": 99,
     "metadata": {},
     "output_type": "execute_result"
    }
   ],
   "source": [
    "scalable_vec_machinel2 = LinearSVC(C=4, loss=\"hinge\")\n",
    "scalable_vec_machinel2.fit(X_train, y_train)"
   ]
  },
  {
   "cell_type": "code",
   "execution_count": 100,
   "metadata": {
    "ExecuteTime": {
     "end_time": "2017-12-03T03:19:57.289189Z",
     "start_time": "2017-12-03T03:19:57.262622Z"
    }
   },
   "outputs": [],
   "source": [
    "svm_predictions2 = scalable_vec_machinel2.predict(X_test)"
   ]
  },
  {
   "cell_type": "code",
   "execution_count": 101,
   "metadata": {
    "ExecuteTime": {
     "end_time": "2017-12-03T03:19:59.209112Z",
     "start_time": "2017-12-03T03:19:59.181487Z"
    }
   },
   "outputs": [
    {
     "name": "stdout",
     "output_type": "stream",
     "text": [
      "0.883285714286\n"
     ]
    }
   ],
   "source": [
    "svn_score2 = scalable_vec_machinel2.score(X_test, y_test)\n",
    "print(svn_score2)"
   ]
  },
  {
   "cell_type": "code",
   "execution_count": 43,
   "metadata": {
    "ExecuteTime": {
     "end_time": "2017-12-02T22:55:09.407045Z",
     "start_time": "2017-12-02T22:53:05.014168Z"
    }
   },
   "outputs": [
    {
     "data": {
      "text/plain": [
       "LinearSVC(C=0.5, class_weight=None, dual=True, fit_intercept=True,\n",
       "     intercept_scaling=1, loss='hinge', max_iter=1000, multi_class='ovr',\n",
       "     penalty='l2', random_state=None, tol=0.0001, verbose=0)"
      ]
     },
     "execution_count": 43,
     "metadata": {},
     "output_type": "execute_result"
    }
   ],
   "source": [
    "scalable_vec_machinel3 = LinearSVC(C=0.5, loss=\"hinge\")\n",
    "scalable_vec_machinel3.fit(X_train, y_train)"
   ]
  },
  {
   "cell_type": "code",
   "execution_count": 44,
   "metadata": {
    "ExecuteTime": {
     "end_time": "2017-12-02T22:55:09.434466Z",
     "start_time": "2017-12-02T22:55:09.408594Z"
    }
   },
   "outputs": [
    {
     "name": "stdout",
     "output_type": "stream",
     "text": [
      "0.832142857143\n"
     ]
    }
   ],
   "source": [
    "svn_score3 = scalable_vec_machinel3.score(X_test, y_test)\n",
    "print(svn_score3)"
   ]
  },
  {
   "cell_type": "markdown",
   "metadata": {},
   "source": [
    "Decrease in mean accuracy. Selecting the second model for performance measures and evaluation"
   ]
  },
  {
   "cell_type": "code",
   "execution_count": 102,
   "metadata": {
    "ExecuteTime": {
     "end_time": "2017-12-03T03:20:17.442729Z",
     "start_time": "2017-12-03T03:20:17.433440Z"
    }
   },
   "outputs": [
    {
     "name": "stdout",
     "output_type": "stream",
     "text": [
      "             precision    recall  f1-score   support\n",
      "\n",
      "        0.0       0.89      0.96      0.92       660\n",
      "        1.0       0.94      0.96      0.95       779\n",
      "        2.0       0.88      0.89      0.88       688\n",
      "        3.0       0.84      0.87      0.85       733\n",
      "        4.0       0.93      0.86      0.90       640\n",
      "        5.0       0.86      0.76      0.81       651\n",
      "        6.0       0.93      0.96      0.95       738\n",
      "        7.0       0.93      0.92      0.92       724\n",
      "        8.0       0.77      0.80      0.78       672\n",
      "        9.0       0.87      0.83      0.85       715\n",
      "\n",
      "avg / total       0.88      0.88      0.88      7000\n",
      "\n"
     ]
    }
   ],
   "source": [
    "print(classification_report(y_test, svm_predictions2))"
   ]
  },
  {
   "cell_type": "code",
   "execution_count": 103,
   "metadata": {
    "ExecuteTime": {
     "end_time": "2017-12-03T03:20:21.674039Z",
     "start_time": "2017-12-03T03:20:21.662135Z"
    }
   },
   "outputs": [
    {
     "name": "stdout",
     "output_type": "stream",
     "text": [
      "Confusion matrix:\n",
      "[[636   0   4   3   2   2   5   1   7   0]\n",
      " [  0 751   3   7   1   3   1   0  13   0]\n",
      " [ 10   4 610   7   2   4   9  10  30   2]\n",
      " [  6   5  28 639   0  16   2   7  23   7]\n",
      " [ 11   2   7   3 552   6   7   2  18  32]\n",
      " [ 19   4  13  46   6 495  22   4  31  11]\n",
      " [ 14   2   7   0   0   4 706   0   5   0]\n",
      " [  5   1   7   3  10   1   0 668   3  26]\n",
      " [  5  28  12  34   1  35   3   6 535  13]\n",
      " [ 12   2   5  21  19   7   1  24  33 591]]\n"
     ]
    }
   ],
   "source": [
    "print(\"Confusion matrix:\\n%s\" % confusion_matrix(y_test, svm_predictions2))"
   ]
  },
  {
   "cell_type": "markdown",
   "metadata": {
    "ExecuteTime": {
     "end_time": "2017-12-03T03:21:48.219818Z",
     "start_time": "2017-12-03T03:21:48.213851Z"
    }
   },
   "source": [
    "Mean accuracy: 88.3% <br>\n",
    "Precision: 88% <br>\n",
    "Recall: 88% <br>\n",
    "F1-Score: 88% <br>\n",
    "Labels with the most errors: \"3\", \"8\", \"5\" <br>"
   ]
  },
  {
   "cell_type": "markdown",
   "metadata": {},
   "source": [
    "# Neural Network"
   ]
  },
  {
   "cell_type": "code",
   "execution_count": 50,
   "metadata": {
    "ExecuteTime": {
     "end_time": "2017-12-02T22:58:39.431071Z",
     "start_time": "2017-12-02T22:58:37.300220Z"
    },
    "collapsed": true
   },
   "outputs": [],
   "source": [
    "import tensorflow as tf\n",
    "sess = tf.InteractiveSession()"
   ]
  },
  {
   "cell_type": "code",
   "execution_count": 51,
   "metadata": {
    "ExecuteTime": {
     "end_time": "2017-12-02T22:58:42.304839Z",
     "start_time": "2017-12-02T22:58:42.272842Z"
    },
    "collapsed": true
   },
   "outputs": [],
   "source": [
    "#setup and initialize weight and bias to 0 values\n",
    "W = tf.Variable(tf.zeros([784,10]))\n",
    "b = tf.Variable(tf.zeros([10]))"
   ]
  },
  {
   "cell_type": "code",
   "execution_count": 72,
   "metadata": {
    "ExecuteTime": {
     "end_time": "2017-12-03T02:41:50.388300Z",
     "start_time": "2017-12-03T02:41:50.373239Z"
    },
    "collapsed": true
   },
   "outputs": [],
   "source": [
    "#setup and initialize feature vector - x_tf, yhat or true distribution y_, and y or predicted distribution - y_tf \n",
    "x_tf = tf.placeholder(tf.float32, [None, 784])\n",
    "y_tf = tf.nn.softmax(tf.matmul(x_tf, W) + b)\n",
    "y_ = tf.placeholder(tf.float32, [None, 10])"
   ]
  },
  {
   "cell_type": "code",
   "execution_count": 73,
   "metadata": {
    "ExecuteTime": {
     "end_time": "2017-12-03T02:42:11.332359Z",
     "start_time": "2017-12-03T02:42:11.318184Z"
    },
    "collapsed": true
   },
   "outputs": [],
   "source": [
    "cross_entropy = tf.reduce_mean(-tf.reduce_sum(y_ * tf.log(y_tf), reduction_indices=[1]))"
   ]
  },
  {
   "cell_type": "code",
   "execution_count": 74,
   "metadata": {
    "ExecuteTime": {
     "end_time": "2017-12-03T02:42:12.181624Z",
     "start_time": "2017-12-03T02:42:12.092619Z"
    },
    "collapsed": true
   },
   "outputs": [],
   "source": [
    "train_step = tf.train.GradientDescentOptimizer(0.5).minimize(cross_entropy)"
   ]
  },
  {
   "cell_type": "code",
   "execution_count": 75,
   "metadata": {
    "ExecuteTime": {
     "end_time": "2017-12-03T02:42:13.287839Z",
     "start_time": "2017-12-03T02:42:13.282984Z"
    },
    "collapsed": true
   },
   "outputs": [],
   "source": [
    "#Execution\n",
    "sess = tf.InteractiveSession()"
   ]
  },
  {
   "cell_type": "code",
   "execution_count": 76,
   "metadata": {
    "ExecuteTime": {
     "end_time": "2017-12-03T02:42:14.700277Z",
     "start_time": "2017-12-03T02:42:14.452833Z"
    },
    "collapsed": true
   },
   "outputs": [],
   "source": [
    "tf.global_variables_initializer().run()"
   ]
  },
  {
   "cell_type": "code",
   "execution_count": 77,
   "metadata": {
    "ExecuteTime": {
     "end_time": "2017-12-03T02:42:21.600166Z",
     "start_time": "2017-12-03T02:42:20.753595Z"
    }
   },
   "outputs": [
    {
     "name": "stdout",
     "output_type": "stream",
     "text": [
      "Extracting MNIST_data/train-images-idx3-ubyte.gz\n",
      "Extracting MNIST_data/train-labels-idx1-ubyte.gz\n",
      "Extracting MNIST_data/t10k-images-idx3-ubyte.gz\n",
      "Extracting MNIST_data/t10k-labels-idx1-ubyte.gz\n"
     ]
    }
   ],
   "source": [
    "from tensorflow.examples.tutorials.mnist import input_data\n",
    "mnist = input_data.read_data_sets('MNIST_data', one_hot=True)"
   ]
  },
  {
   "cell_type": "code",
   "execution_count": 78,
   "metadata": {
    "ExecuteTime": {
     "end_time": "2017-12-03T02:42:26.214731Z",
     "start_time": "2017-12-03T02:42:25.222524Z"
    },
    "collapsed": true
   },
   "outputs": [],
   "source": [
    "for _ in range(1000):\n",
    "  batch_xs, batch_ys = mnist.train.next_batch(100)\n",
    "  sess.run(train_step, feed_dict={x_tf: batch_xs, y_: batch_ys})"
   ]
  },
  {
   "cell_type": "code",
   "execution_count": 79,
   "metadata": {
    "ExecuteTime": {
     "end_time": "2017-12-03T02:43:10.823982Z",
     "start_time": "2017-12-03T02:43:10.813461Z"
    },
    "collapsed": true
   },
   "outputs": [],
   "source": [
    "correct_prediction = tf.equal(tf.argmax(y_tf,1), tf.argmax(y_,1))"
   ]
  },
  {
   "cell_type": "code",
   "execution_count": 80,
   "metadata": {
    "ExecuteTime": {
     "end_time": "2017-12-03T02:43:11.871445Z",
     "start_time": "2017-12-03T02:43:11.863569Z"
    },
    "collapsed": true
   },
   "outputs": [],
   "source": [
    "accuracy = tf.reduce_mean(tf.cast(correct_prediction, tf.float32))"
   ]
  },
  {
   "cell_type": "code",
   "execution_count": 81,
   "metadata": {
    "ExecuteTime": {
     "end_time": "2017-12-03T02:43:13.003781Z",
     "start_time": "2017-12-03T02:43:12.964520Z"
    }
   },
   "outputs": [
    {
     "name": "stdout",
     "output_type": "stream",
     "text": [
      "0.9172\n"
     ]
    }
   ],
   "source": [
    "print(sess.run(accuracy, feed_dict={x_tf: mnist.test.images, y_: mnist.test.labels}))"
   ]
  }
 ],
 "metadata": {
  "kernelspec": {
   "display_name": "Python 3",
   "language": "python",
   "name": "python3"
  },
  "language_info": {
   "codemirror_mode": {
    "name": "ipython",
    "version": 3
   },
   "file_extension": ".py",
   "mimetype": "text/x-python",
   "name": "python",
   "nbconvert_exporter": "python",
   "pygments_lexer": "ipython3",
   "version": "3.6.1"
  }
 },
 "nbformat": 4,
 "nbformat_minor": 2
}
