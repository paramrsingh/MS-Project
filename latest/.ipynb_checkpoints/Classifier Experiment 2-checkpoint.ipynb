{
 "cells": [
  {
   "cell_type": "markdown",
   "metadata": {},
   "source": [
    "# Overview"
   ]
  },
  {
   "cell_type": "markdown",
   "metadata": {},
   "source": [
    "The following notebook supports a study of classifier methods used in contemporary machine learning. This specific experiment provides python implementations as a basis for comparisons of performance using the same dataset and evaluation criteria. This is by no means exhaustive, but illustrative in the differences between each method, and informative in which perform better on different types of data."
   ]
  },
  {
   "cell_type": "markdown",
   "metadata": {},
   "source": [
    "# Data"
   ]
  },
  {
   "cell_type": "markdown",
   "metadata": {},
   "source": [
    "The data being used for this experiment is part of the sci-kit package, the 20 newsgroups dataset that contains 18000 newsgroups posts on 20 topics. Like the MNIST dataset it comes cleansed, labeled, and packaged with sci-kit. It also has a vectorized set available which include features that are ready to use with classifiers."
   ]
  },
  {
   "cell_type": "markdown",
   "metadata": {},
   "source": [
    "TODO - add some background and samples for the fetch20"
   ]
  },
  {
   "cell_type": "code",
   "execution_count": 1,
   "metadata": {
    "ExecuteTime": {
     "end_time": "2017-12-03T04:39:22.190134Z",
     "start_time": "2017-12-03T04:39:19.851599Z"
    },
    "collapsed": true
   },
   "outputs": [],
   "source": [
    "from sklearn.datasets import fetch_20newsgroups_vectorized\n",
    "data = fetch_20newsgroups_vectorized('all')"
   ]
  },
  {
   "cell_type": "code",
   "execution_count": 2,
   "metadata": {
    "ExecuteTime": {
     "end_time": "2017-12-03T04:39:41.700587Z",
     "start_time": "2017-12-03T04:39:41.663199Z"
    },
    "collapsed": true
   },
   "outputs": [],
   "source": [
    "from sklearn.model_selection import train_test_split"
   ]
  },
  {
   "cell_type": "code",
   "execution_count": 3,
   "metadata": {
    "ExecuteTime": {
     "end_time": "2017-12-03T04:39:51.287415Z",
     "start_time": "2017-12-03T04:39:51.283515Z"
    },
    "collapsed": true
   },
   "outputs": [],
   "source": [
    "newsdata = data\n",
    "X = newsdata.data\n",
    "y = newsdata.target"
   ]
  },
  {
   "cell_type": "code",
   "execution_count": 4,
   "metadata": {
    "ExecuteTime": {
     "end_time": "2017-12-03T04:40:02.415601Z",
     "start_time": "2017-12-03T04:40:02.403224Z"
    }
   },
   "outputs": [
    {
     "data": {
      "text/plain": [
       "(18846, 130107)"
      ]
     },
     "execution_count": 4,
     "metadata": {},
     "output_type": "execute_result"
    }
   ],
   "source": [
    "X.shape"
   ]
  },
  {
   "cell_type": "code",
   "execution_count": 5,
   "metadata": {
    "ExecuteTime": {
     "end_time": "2017-12-03T04:40:12.639412Z",
     "start_time": "2017-12-03T04:40:12.634679Z"
    }
   },
   "outputs": [
    {
     "data": {
      "text/plain": [
       "(18846,)"
      ]
     },
     "execution_count": 5,
     "metadata": {},
     "output_type": "execute_result"
    }
   ],
   "source": [
    "y.shape"
   ]
  },
  {
   "cell_type": "code",
   "execution_count": 6,
   "metadata": {
    "ExecuteTime": {
     "end_time": "2017-12-03T04:40:23.942643Z",
     "start_time": "2017-12-03T04:40:23.863209Z"
    },
    "collapsed": true
   },
   "outputs": [],
   "source": [
    "X_train, X_test, y_train, y_test = train_test_split(X, y, random_state=42, stratify=y, test_size=0.1)"
   ]
  },
  {
   "cell_type": "code",
   "execution_count": 7,
   "metadata": {
    "ExecuteTime": {
     "end_time": "2017-12-03T04:40:31.740900Z",
     "start_time": "2017-12-03T04:40:31.733344Z"
    }
   },
   "outputs": [
    {
     "data": {
      "text/plain": [
       "array([19,  7, 11, ..., 19, 12, 18])"
      ]
     },
     "execution_count": 7,
     "metadata": {},
     "output_type": "execute_result"
    }
   ],
   "source": [
    "y_train"
   ]
  },
  {
   "cell_type": "code",
   "execution_count": 8,
   "metadata": {
    "ExecuteTime": {
     "end_time": "2017-12-03T04:40:47.849143Z",
     "start_time": "2017-12-03T04:40:47.843789Z"
    }
   },
   "outputs": [
    {
     "data": {
      "text/plain": [
       "7"
      ]
     },
     "execution_count": 8,
     "metadata": {},
     "output_type": "execute_result"
    }
   ],
   "source": [
    "y_train[1]"
   ]
  },
  {
   "cell_type": "code",
   "execution_count": 9,
   "metadata": {
    "ExecuteTime": {
     "end_time": "2017-12-03T04:40:55.283122Z",
     "start_time": "2017-12-03T04:40:55.273760Z"
    }
   },
   "outputs": [
    {
     "data": {
      "text/plain": [
       "<16961x1 sparse matrix of type '<class 'numpy.float64'>'\n",
       "\twith 625 stored elements in Compressed Sparse Row format>"
      ]
     },
     "execution_count": 9,
     "metadata": {},
     "output_type": "execute_result"
    }
   ],
   "source": [
    "X_train[:,1]"
   ]
  },
  {
   "cell_type": "markdown",
   "metadata": {},
   "source": [
    "# Logistic Regression"
   ]
  },
  {
   "cell_type": "code",
   "execution_count": 10,
   "metadata": {
    "ExecuteTime": {
     "end_time": "2017-12-03T04:41:26.019328Z",
     "start_time": "2017-12-03T04:41:25.904300Z"
    },
    "collapsed": true
   },
   "outputs": [],
   "source": [
    "from sklearn.linear_model import LogisticRegression\n",
    "logregress = LogisticRegression(solver = 'lbfgs')"
   ]
  },
  {
   "cell_type": "code",
   "execution_count": 11,
   "metadata": {
    "ExecuteTime": {
     "end_time": "2017-12-03T04:41:58.817556Z",
     "start_time": "2017-12-03T04:41:34.964157Z"
    }
   },
   "outputs": [
    {
     "data": {
      "text/plain": [
       "LogisticRegression(C=1.0, class_weight=None, dual=False, fit_intercept=True,\n",
       "          intercept_scaling=1, max_iter=100, multi_class='ovr', n_jobs=1,\n",
       "          penalty='l2', random_state=None, solver='lbfgs', tol=0.0001,\n",
       "          verbose=0, warm_start=False)"
      ]
     },
     "execution_count": 11,
     "metadata": {},
     "output_type": "execute_result"
    }
   ],
   "source": [
    "logregress.fit(X_train, y_train)"
   ]
  },
  {
   "cell_type": "code",
   "execution_count": 12,
   "metadata": {
    "ExecuteTime": {
     "end_time": "2017-12-03T04:42:05.128273Z",
     "start_time": "2017-12-03T04:42:05.096279Z"
    },
    "collapsed": true
   },
   "outputs": [],
   "source": [
    "logregress_predictions = logregress.predict(X_test)"
   ]
  },
  {
   "cell_type": "code",
   "execution_count": 13,
   "metadata": {
    "ExecuteTime": {
     "end_time": "2017-12-03T04:42:16.979506Z",
     "start_time": "2017-12-03T04:42:16.954864Z"
    }
   },
   "outputs": [
    {
     "name": "stdout",
     "output_type": "stream",
     "text": [
      "0.820689655172\n"
     ]
    }
   ],
   "source": [
    "logregress_score = logregress.score(X_test, y_test)\n",
    "print (logregress_score)"
   ]
  },
  {
   "cell_type": "code",
   "execution_count": 14,
   "metadata": {
    "ExecuteTime": {
     "end_time": "2017-12-03T04:43:25.998708Z",
     "start_time": "2017-12-03T04:43:25.995580Z"
    },
    "collapsed": true
   },
   "outputs": [],
   "source": [
    "logregress2 = LogisticRegression(solver = 'sag')"
   ]
  },
  {
   "cell_type": "code",
   "execution_count": 15,
   "metadata": {
    "ExecuteTime": {
     "end_time": "2017-12-03T04:44:04.710654Z",
     "start_time": "2017-12-03T04:43:39.446428Z"
    }
   },
   "outputs": [
    {
     "data": {
      "text/plain": [
       "LogisticRegression(C=1.0, class_weight=None, dual=False, fit_intercept=True,\n",
       "          intercept_scaling=1, max_iter=100, multi_class='ovr', n_jobs=1,\n",
       "          penalty='l2', random_state=None, solver='sag', tol=0.0001,\n",
       "          verbose=0, warm_start=False)"
      ]
     },
     "execution_count": 15,
     "metadata": {},
     "output_type": "execute_result"
    }
   ],
   "source": [
    "logregress2.fit(X_train, y_train)"
   ]
  },
  {
   "cell_type": "code",
   "execution_count": 16,
   "metadata": {
    "ExecuteTime": {
     "end_time": "2017-12-03T04:44:24.647998Z",
     "start_time": "2017-12-03T04:44:24.616095Z"
    },
    "collapsed": true
   },
   "outputs": [],
   "source": [
    "logregress_predictions2 = logregress2.predict(X_test)"
   ]
  },
  {
   "cell_type": "code",
   "execution_count": 17,
   "metadata": {
    "ExecuteTime": {
     "end_time": "2017-12-03T04:44:39.800817Z",
     "start_time": "2017-12-03T04:44:39.776260Z"
    }
   },
   "outputs": [
    {
     "name": "stdout",
     "output_type": "stream",
     "text": [
      "0.820689655172\n"
     ]
    }
   ],
   "source": [
    "logregress_score2 = logregress2.score(X_test, y_test)\n",
    "print (logregress_score2)"
   ]
  },
  {
   "cell_type": "code",
   "execution_count": 18,
   "metadata": {
    "ExecuteTime": {
     "end_time": "2017-12-03T04:44:52.045875Z",
     "start_time": "2017-12-03T04:44:52.037592Z"
    }
   },
   "outputs": [
    {
     "name": "stdout",
     "output_type": "stream",
     "text": [
      "             precision    recall  f1-score   support\n",
      "\n",
      "          0       0.86      0.85      0.86        80\n",
      "          1       0.71      0.81      0.76        97\n",
      "          2       0.81      0.80      0.80        99\n",
      "          3       0.76      0.66      0.71        98\n",
      "          4       0.86      0.78      0.82        96\n",
      "          5       0.75      0.80      0.77        99\n",
      "          6       0.72      0.86      0.78        98\n",
      "          7       0.82      0.93      0.87        99\n",
      "          8       0.91      0.86      0.89       100\n",
      "          9       0.84      0.88      0.86        99\n",
      "         10       0.91      0.92      0.92       100\n",
      "         11       0.90      0.85      0.88        99\n",
      "         12       0.83      0.84      0.83        98\n",
      "         13       0.78      0.80      0.79        99\n",
      "         14       0.87      0.89      0.88        99\n",
      "         15       0.77      0.88      0.82       100\n",
      "         16       0.82      0.88      0.85        91\n",
      "         17       0.86      0.87      0.87        94\n",
      "         18       0.90      0.68      0.77        77\n",
      "         19       0.84      0.41      0.55        63\n",
      "\n",
      "avg / total       0.82      0.82      0.82      1885\n",
      "\n"
     ]
    }
   ],
   "source": [
    "#Additional performance measures\n",
    "from sklearn.metrics import classification_report\n",
    "from sklearn.metrics import confusion_matrix\n",
    "print(classification_report(y_test, logregress_predictions))"
   ]
  },
  {
   "cell_type": "code",
   "execution_count": 19,
   "metadata": {
    "ExecuteTime": {
     "end_time": "2017-12-03T04:45:30.995433Z",
     "start_time": "2017-12-03T04:45:30.986535Z"
    }
   },
   "outputs": [
    {
     "name": "stdout",
     "output_type": "stream",
     "text": [
      "Confusion matrix:\n",
      "[[68  0  0  0  0  0  0  0  0  1  0  1  0  1  0  4  0  2  0  3]\n",
      " [ 0 79  3  1  0  6  2  0  0  0  0  0  1  1  1  1  0  1  0  1]\n",
      " [ 0  5 79  4  1  5  2  0  1  0  0  0  1  0  1  0  0  0  0  0]\n",
      " [ 0  4  8 65  4  1  4  1  1  0  1  1  3  2  1  0  0  1  1  0]\n",
      " [ 0  3  1  8 75  1  3  0  0  0  0  0  2  0  0  1  1  1  0  0]\n",
      " [ 0  6  7  3  1 79  0  1  1  1  0  0  0  0  0  0  0  0  0  0]\n",
      " [ 0  0  0  1  1  1 84  3  0  2  1  2  1  1  0  1  0  0  0  0]\n",
      " [ 0  1  0  0  0  0  2 92  0  0  0  0  1  2  1  0  0  0  0  0]\n",
      " [ 0  0  0  0  1  0  3  6 86  1  0  0  0  0  1  0  1  0  1  0]\n",
      " [ 0  1  0  1  0  1  2  0  0 87  4  0  0  3  0  0  0  0  0  0]\n",
      " [ 0  0  0  0  0  0  4  0  0  3 92  0  0  0  0  0  0  0  1  0]\n",
      " [ 0  2  0  0  1  4  2  0  1  2  1 84  0  0  0  0  1  1  0  0]\n",
      " [ 0  5  0  2  1  1  2  4  0  0  0  0 82  0  1  0  0  0  0  0]\n",
      " [ 0  1  0  0  0  0  3  3  2  1  0  1  1 79  3  1  1  2  1  0]\n",
      " [ 1  1  0  0  1  2  2  0  0  0  0  0  0  3 88  1  0  0  0  0]\n",
      " [ 1  3  0  0  1  3  0  0  0  0  1  0  1  0  0 88  0  1  0  1]\n",
      " [ 0  0  0  0  0  0  1  1  0  1  0  1  3  1  1  1 80  1  0  0]\n",
      " [ 0  0  0  0  0  2  0  1  1  2  0  1  1  1  1  1  0 82  1  0]\n",
      " [ 1  0  0  0  0  0  1  0  1  3  1  0  1  2  1  1 11  2 52  0]\n",
      " [ 8  0  0  0  0  0  0  0  0  0  0  2  1  5  1 15  3  1  1 26]]\n"
     ]
    }
   ],
   "source": [
    "#Confusion matrix. Higher values along the diagonal are better\n",
    "print(\"Confusion matrix:\\n%s\" % confusion_matrix(y_test, logregress_predictions))"
   ]
  },
  {
   "cell_type": "markdown",
   "metadata": {},
   "source": [
    "# Stochastic Gradient Descent"
   ]
  },
  {
   "cell_type": "code",
   "execution_count": 20,
   "metadata": {
    "ExecuteTime": {
     "end_time": "2017-12-03T04:46:45.499611Z",
     "start_time": "2017-12-03T04:46:44.807776Z"
    }
   },
   "outputs": [
    {
     "data": {
      "text/plain": [
       "SGDClassifier(alpha=0.0001, average=False, class_weight=None, epsilon=0.1,\n",
       "       eta0=0.0, fit_intercept=True, l1_ratio=0.15,\n",
       "       learning_rate='optimal', loss='hinge', n_iter=5, n_jobs=1,\n",
       "       penalty='l2', power_t=0.5, random_state=42, shuffle=True, verbose=0,\n",
       "       warm_start=False)"
      ]
     },
     "execution_count": 20,
     "metadata": {},
     "output_type": "execute_result"
    }
   ],
   "source": [
    "from sklearn.linear_model import SGDClassifier\n",
    "sgd_clf = SGDClassifier(random_state=42)\n",
    "sgd_clf.fit(X_train, y_train)"
   ]
  },
  {
   "cell_type": "code",
   "execution_count": 21,
   "metadata": {
    "ExecuteTime": {
     "end_time": "2017-12-03T04:46:57.071240Z",
     "start_time": "2017-12-03T04:46:57.037762Z"
    },
    "collapsed": true
   },
   "outputs": [],
   "source": [
    "sgd_predictions = sgd_clf.predict(X_test)"
   ]
  },
  {
   "cell_type": "code",
   "execution_count": 22,
   "metadata": {
    "ExecuteTime": {
     "end_time": "2017-12-03T04:47:06.043878Z",
     "start_time": "2017-12-03T04:47:06.018395Z"
    }
   },
   "outputs": [
    {
     "name": "stdout",
     "output_type": "stream",
     "text": [
      "0.872148541114\n"
     ]
    }
   ],
   "source": [
    "sgd_score = sgd_clf.score(X_test, y_test)\n",
    "print(sgd_score)"
   ]
  },
  {
   "cell_type": "code",
   "execution_count": 23,
   "metadata": {
    "ExecuteTime": {
     "end_time": "2017-12-03T04:47:27.515858Z",
     "start_time": "2017-12-03T04:47:27.508117Z"
    }
   },
   "outputs": [
    {
     "name": "stdout",
     "output_type": "stream",
     "text": [
      "             precision    recall  f1-score   support\n",
      "\n",
      "          0       0.87      0.85      0.86        80\n",
      "          1       0.76      0.91      0.83        97\n",
      "          2       0.82      0.87      0.84        99\n",
      "          3       0.83      0.73      0.78        98\n",
      "          4       0.88      0.84      0.86        96\n",
      "          5       0.95      0.78      0.86        99\n",
      "          6       0.77      0.91      0.84        98\n",
      "          7       0.91      0.97      0.94        99\n",
      "          8       0.97      0.92      0.94       100\n",
      "          9       0.87      0.98      0.92        99\n",
      "         10       0.98      0.98      0.98       100\n",
      "         11       0.95      0.90      0.92        99\n",
      "         12       0.92      0.82      0.86        98\n",
      "         13       0.89      0.90      0.89        99\n",
      "         14       0.89      0.94      0.92        99\n",
      "         15       0.80      0.89      0.84       100\n",
      "         16       0.89      0.92      0.91        91\n",
      "         17       0.78      0.97      0.87        94\n",
      "         18       0.96      0.71      0.82        77\n",
      "         19       0.86      0.48      0.61        63\n",
      "\n",
      "avg / total       0.88      0.87      0.87      1885\n",
      "\n"
     ]
    }
   ],
   "source": [
    "print(classification_report(y_test, sgd_predictions))"
   ]
  },
  {
   "cell_type": "code",
   "execution_count": 24,
   "metadata": {
    "ExecuteTime": {
     "end_time": "2017-12-03T04:47:48.617488Z",
     "start_time": "2017-12-03T04:47:48.608330Z"
    }
   },
   "outputs": [
    {
     "name": "stdout",
     "output_type": "stream",
     "text": [
      "Confusion matrix:\n",
      "[[68  0  0  0  0  0  0  0  0  1  0  1  0  0  0  3  0  2  0  5]\n",
      " [ 0 88  2  1  0  2  2  0  0  1  0  0  0  0  0  0  0  1  0  0]\n",
      " [ 0  5 86  2  2  1  2  0  0  0  0  0  0  0  1  0  0  0  0  0]\n",
      " [ 1  4  5 72  5  0  5  0  1  0  0  0  2  0  2  0  0  1  0  0]\n",
      " [ 0  3  2  4 81  0  3  0  0  0  0  0  1  0  0  0  0  2  0  0]\n",
      " [ 0  4  8  4  1 77  0  0  0  2  0  0  0  0  1  0  0  2  0  0]\n",
      " [ 0  0  1  2  0  0 89  1  0  1  0  1  2  0  1  0  0  0  0  0]\n",
      " [ 0  2  0  0  0  0  0 96  1  0  0  0  0  0  0  0  0  0  0  0]\n",
      " [ 0  0  0  0  0  0  2  4 92  2  0  0  0  0  0  0  0  0  0  0]\n",
      " [ 0  1  0  0  0  0  0  0  0 97  1  0  0  0  0  0  0  0  0  0]\n",
      " [ 0  0  0  0  0  0  1  0  0  1 98  0  0  0  0  0  0  0  0  0]\n",
      " [ 0  2  0  0  0  0  3  1  1  0  0 89  0  1  0  1  0  1  0  0]\n",
      " [ 0  3  0  2  2  0  4  3  0  0  0  1 80  1  2  0  0  0  0  0]\n",
      " [ 0  0  0  0  0  0  1  1  0  1  0  0  0 89  1  1  0  4  1  0]\n",
      " [ 1  2  0  0  1  0  1  0  0  0  0  0  0  1 93  0  0  0  0  0]\n",
      " [ 3  2  0  0  0  1  1  0  0  1  0  0  1  1  0 89  0  1  0  0]\n",
      " [ 0  0  0  0  0  0  1  0  0  1  0  1  1  1  0  0 84  2  0  0]\n",
      " [ 0  0  0  0  0  0  0  0  0  1  0  1  0  0  0  0  1 91  0  0]\n",
      " [ 0  0  0  0  0  0  0  0  0  3  1  0  0  2  2  1  8  5 55  0]\n",
      " [ 5  0  1  0  0  0  0  0  0  0  0  0  0  4  1 16  1  4  1 30]]\n"
     ]
    }
   ],
   "source": [
    "print(\"Confusion matrix:\\n%s\" % confusion_matrix(y_test, sgd_predictions))"
   ]
  },
  {
   "cell_type": "markdown",
   "metadata": {},
   "source": [
    "# Scalable Vector Machine"
   ]
  },
  {
   "cell_type": "code",
   "execution_count": 25,
   "metadata": {
    "ExecuteTime": {
     "end_time": "2017-12-03T04:49:27.165669Z",
     "start_time": "2017-12-03T04:49:19.639751Z"
    }
   },
   "outputs": [
    {
     "data": {
      "text/plain": [
       "LinearSVC(C=1, class_weight=None, dual=True, fit_intercept=True,\n",
       "     intercept_scaling=1, loss='hinge', max_iter=1000, multi_class='ovr',\n",
       "     penalty='l2', random_state=None, tol=0.0001, verbose=0)"
      ]
     },
     "execution_count": 25,
     "metadata": {},
     "output_type": "execute_result"
    }
   ],
   "source": [
    "from sklearn.svm import LinearSVC\n",
    "\n",
    "scalable_vec_machine = LinearSVC(C=1, loss=\"hinge\")\n",
    "scalable_vec_machine.fit(X_train, y_train)"
   ]
  },
  {
   "cell_type": "code",
   "execution_count": 28,
   "metadata": {
    "ExecuteTime": {
     "end_time": "2017-12-03T04:50:31.865647Z",
     "start_time": "2017-12-03T04:50:31.850346Z"
    }
   },
   "outputs": [],
   "source": [
    "svm_predictions = scalable_vec_machine.predict(X_test)"
   ]
  },
  {
   "cell_type": "code",
   "execution_count": 27,
   "metadata": {
    "ExecuteTime": {
     "end_time": "2017-12-03T04:49:42.406045Z",
     "start_time": "2017-12-03T04:49:42.388685Z"
    }
   },
   "outputs": [
    {
     "name": "stdout",
     "output_type": "stream",
     "text": [
      "0.893899204244\n"
     ]
    }
   ],
   "source": [
    "svn_score = scalable_vec_machine.score(X_test, y_test)\n",
    "print(svn_score)"
   ]
  },
  {
   "cell_type": "code",
   "execution_count": 29,
   "metadata": {
    "ExecuteTime": {
     "end_time": "2017-12-03T04:50:39.437169Z",
     "start_time": "2017-12-03T04:50:39.430461Z"
    }
   },
   "outputs": [
    {
     "name": "stdout",
     "output_type": "stream",
     "text": [
      "             precision    recall  f1-score   support\n",
      "\n",
      "          0       0.84      0.88      0.86        80\n",
      "          1       0.81      0.88      0.84        97\n",
      "          2       0.83      0.87      0.85        99\n",
      "          3       0.81      0.81      0.81        98\n",
      "          4       0.93      0.86      0.90        96\n",
      "          5       0.92      0.88      0.90        99\n",
      "          6       0.84      0.89      0.87        98\n",
      "          7       0.92      0.98      0.95        99\n",
      "          8       0.97      0.95      0.96       100\n",
      "          9       0.92      0.99      0.95        99\n",
      "         10       0.96      0.99      0.98       100\n",
      "         11       0.96      0.92      0.94        99\n",
      "         12       0.91      0.86      0.88        98\n",
      "         13       0.93      0.89      0.91        99\n",
      "         14       0.93      0.94      0.93        99\n",
      "         15       0.78      0.92      0.84       100\n",
      "         16       0.90      0.95      0.92        91\n",
      "         17       0.91      0.96      0.93        94\n",
      "         18       0.97      0.79      0.87        77\n",
      "         19       0.89      0.54      0.67        63\n",
      "\n",
      "avg / total       0.90      0.89      0.89      1885\n",
      "\n"
     ]
    }
   ],
   "source": [
    "print(classification_report(y_test, svm_predictions))"
   ]
  },
  {
   "cell_type": "code",
   "execution_count": 30,
   "metadata": {
    "ExecuteTime": {
     "end_time": "2017-12-03T04:51:03.599576Z",
     "start_time": "2017-12-03T04:51:03.590337Z"
    }
   },
   "outputs": [
    {
     "name": "stdout",
     "output_type": "stream",
     "text": [
      "Confusion matrix:\n",
      "[[70  0  0  0  0  0  0  0  0  1  0  1  0  0  0  4  0  0  0  4]\n",
      " [ 0 85  2  1  0  4  2  0  0  1  0  0  1  0  0  0  0  1  0  0]\n",
      " [ 0  5 86  4  1  1  1  0  0  0  0  0  0  0  1  0  0  0  0  0]\n",
      " [ 0  3  5 79  3  1  3  0  1  0  0  0  1  1  1  0  0  0  0  0]\n",
      " [ 0  3  2  4 83  0  0  0  0  0  1  0  1  0  0  0  0  2  0  0]\n",
      " [ 0  2  6  3  0 87  0  0  0  1  0  0  0  0  0  0  0  0  0  0]\n",
      " [ 1  0  0  3  0  0 87  2  0  0  0  1  2  0  1  1  0  0  0  0]\n",
      " [ 0  1  0  1  0  0  0 97  0  0  0  0  0  0  0  0  0  0  0  0]\n",
      " [ 0  0  0  0  0  0  2  2 95  1  0  0  0  0  0  0  0  0  0  0]\n",
      " [ 0  1  0  0  0  0  0  0  0 98  0  0  0  0  0  0  0  0  0  0]\n",
      " [ 0  0  0  0  0  0  0  0  0  1 99  0  0  0  0  0  0  0  0  0]\n",
      " [ 0  1  0  0  0  0  3  0  1  0  0 91  0  0  1  1  0  1  0  0]\n",
      " [ 0  2  1  2  1  1  2  3  0  0  0  0 84  2  0  0  0  0  0  0]\n",
      " [ 0  0  0  0  0  0  2  2  0  1  1  0  0 88  1  1  0  2  1  0]\n",
      " [ 1  1  0  0  1  0  1  0  1  0  0  0  0  1 93  0  0  0  0  0]\n",
      " [ 3  1  0  0  0  1  0  0  0  0  1  0  1  0  0 92  0  1  0  0]\n",
      " [ 0  0  0  0  0  0  0  0  0  1  0  1  1  1  0  0 86  1  0  0]\n",
      " [ 0  0  0  0  0  0  0  0  0  1  0  1  0  0  0  1  1 90  0  0]\n",
      " [ 1  0  0  0  0  0  0  0  0  1  1  0  1  1  1  2  8  0 61  0]\n",
      " [ 7  0  1  0  0  0  0  0  0  0  0  0  0  1  1 16  1  1  1 34]]\n"
     ]
    }
   ],
   "source": [
    "print(\"Confusion matrix:\\n%s\" % confusion_matrix(y_test, svm_predictions))"
   ]
  },
  {
   "cell_type": "code",
   "execution_count": null,
   "metadata": {
    "collapsed": true
   },
   "outputs": [],
   "source": []
  }
 ],
 "metadata": {
  "kernelspec": {
   "display_name": "Python 3",
   "language": "python",
   "name": "python3"
  },
  "language_info": {
   "codemirror_mode": {
    "name": "ipython",
    "version": 3
   },
   "file_extension": ".py",
   "mimetype": "text/x-python",
   "name": "python",
   "nbconvert_exporter": "python",
   "pygments_lexer": "ipython3",
   "version": "3.6.1"
  }
 },
 "nbformat": 4,
 "nbformat_minor": 2
}
