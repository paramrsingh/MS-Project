{
 "cells": [
  {
   "cell_type": "markdown",
   "metadata": {},
   "source": [
    "# Overview"
   ]
  },
  {
   "cell_type": "markdown",
   "metadata": {},
   "source": [
    "The following notebook supports a study of classifier methods used in contemporary machine learning. This specific experiment provides python implementations as a basis for comparisons of performance using the same dataset and evaluation criteria. This is by no means exhaustive, but illustrative in the differences between each method, and informative in which perform better on different types of data."
   ]
  },
  {
   "cell_type": "markdown",
   "metadata": {},
   "source": [
    "# Data"
   ]
  },
  {
   "cell_type": "markdown",
   "metadata": {},
   "source": [
    "The data being used for this experiment is part of the sci-kit package, the 20 newsgroups dataset that contains 18000 newsgroups posts on 20 topics. Like the MNIST dataset it comes cleansed, labeled, and packaged with sci-kit. It also has a vectorized set available which include features that are ready to use with classifiers."
   ]
  },
  {
   "cell_type": "code",
   "execution_count": 1,
   "metadata": {
    "ExecuteTime": {
     "end_time": "2017-12-06T23:52:43.349122Z",
     "start_time": "2017-12-06T23:52:41.729718Z"
    }
   },
   "outputs": [
    {
     "name": "stdout",
     "output_type": "stream",
     "text": [
      "['alt.atheism', 'comp.graphics', 'comp.os.ms-windows.misc', 'comp.sys.ibm.pc.hardware', 'comp.sys.mac.hardware', 'comp.windows.x', 'misc.forsale', 'rec.autos', 'rec.motorcycles', 'rec.sport.baseball', 'rec.sport.hockey', 'sci.crypt', 'sci.electronics', 'sci.med', 'sci.space', 'soc.religion.christian', 'talk.politics.guns', 'talk.politics.mideast', 'talk.politics.misc', 'talk.religion.misc']\n"
     ]
    }
   ],
   "source": [
    "#Examine categories\n",
    "from sklearn.datasets import fetch_20newsgroups\n",
    "textdata = fetch_20newsgroups(subset='train')\n",
    "print(list(textdata.target_names))"
   ]
  },
  {
   "cell_type": "markdown",
   "metadata": {},
   "source": [
    "For convenience scikit has a dataset that is already vectorized. It is leveraged throughout this experiment. "
   ]
  },
  {
   "cell_type": "code",
   "execution_count": 2,
   "metadata": {
    "ExecuteTime": {
     "end_time": "2017-12-06T23:52:57.689712Z",
     "start_time": "2017-12-06T23:52:56.306866Z"
    },
    "collapsed": true
   },
   "outputs": [],
   "source": [
    "from sklearn.datasets import fetch_20newsgroups_vectorized\n",
    "data = fetch_20newsgroups_vectorized('all')"
   ]
  },
  {
   "cell_type": "code",
   "execution_count": 3,
   "metadata": {
    "ExecuteTime": {
     "end_time": "2017-12-06T23:52:57.731901Z",
     "start_time": "2017-12-06T23:52:57.691675Z"
    },
    "collapsed": true
   },
   "outputs": [],
   "source": [
    "from sklearn.model_selection import train_test_split"
   ]
  },
  {
   "cell_type": "code",
   "execution_count": 4,
   "metadata": {
    "ExecuteTime": {
     "end_time": "2017-12-06T23:52:59.826321Z",
     "start_time": "2017-12-06T23:52:59.822306Z"
    },
    "collapsed": true
   },
   "outputs": [],
   "source": [
    "newsdata = data\n",
    "X = newsdata.data\n",
    "y = newsdata.target"
   ]
  },
  {
   "cell_type": "code",
   "execution_count": 5,
   "metadata": {
    "ExecuteTime": {
     "end_time": "2017-12-06T23:53:00.753236Z",
     "start_time": "2017-12-06T23:53:00.668749Z"
    },
    "collapsed": true
   },
   "outputs": [],
   "source": [
    "X_train, X_test, y_train, y_test = train_test_split(X, y, random_state=42, stratify=y, test_size=0.1)"
   ]
  },
  {
   "cell_type": "code",
   "execution_count": 6,
   "metadata": {
    "ExecuteTime": {
     "end_time": "2017-12-05T04:22:16.773593Z",
     "start_time": "2017-12-05T04:22:16.762430Z"
    }
   },
   "outputs": [
    {
     "data": {
      "text/plain": [
       "dtype('float64')"
      ]
     },
     "execution_count": 6,
     "metadata": {},
     "output_type": "execute_result"
    }
   ],
   "source": [
    "X_train.dtype"
   ]
  },
  {
   "cell_type": "code",
   "execution_count": 7,
   "metadata": {
    "ExecuteTime": {
     "end_time": "2017-12-05T04:22:17.916794Z",
     "start_time": "2017-12-05T04:22:17.912542Z"
    }
   },
   "outputs": [
    {
     "data": {
      "text/plain": [
       "<16961x130107 sparse matrix of type '<class 'numpy.float64'>'\n",
       "\twith 2602382 stored elements in Compressed Sparse Row format>"
      ]
     },
     "execution_count": 7,
     "metadata": {},
     "output_type": "execute_result"
    }
   ],
   "source": [
    "X_train"
   ]
  },
  {
   "cell_type": "code",
   "execution_count": 8,
   "metadata": {
    "ExecuteTime": {
     "end_time": "2017-12-05T04:22:22.696700Z",
     "start_time": "2017-12-05T04:22:22.692309Z"
    }
   },
   "outputs": [
    {
     "data": {
      "text/plain": [
       "(16961, 130107)"
      ]
     },
     "execution_count": 8,
     "metadata": {},
     "output_type": "execute_result"
    }
   ],
   "source": [
    "X_train.shape"
   ]
  },
  {
   "cell_type": "code",
   "execution_count": 9,
   "metadata": {
    "ExecuteTime": {
     "end_time": "2017-12-05T04:22:23.627523Z",
     "start_time": "2017-12-05T04:22:23.622679Z"
    }
   },
   "outputs": [
    {
     "data": {
      "text/plain": [
       "dtype('int64')"
      ]
     },
     "execution_count": 9,
     "metadata": {},
     "output_type": "execute_result"
    }
   ],
   "source": [
    "y_train.dtype"
   ]
  },
  {
   "cell_type": "code",
   "execution_count": 10,
   "metadata": {
    "ExecuteTime": {
     "end_time": "2017-12-05T04:22:24.927496Z",
     "start_time": "2017-12-05T04:22:24.922324Z"
    }
   },
   "outputs": [
    {
     "data": {
      "text/plain": [
       "(16961,)"
      ]
     },
     "execution_count": 10,
     "metadata": {},
     "output_type": "execute_result"
    }
   ],
   "source": [
    "y_train.shape"
   ]
  },
  {
   "cell_type": "markdown",
   "metadata": {},
   "source": [
    "# Logistic Regression"
   ]
  },
  {
   "cell_type": "code",
   "execution_count": 6,
   "metadata": {
    "ExecuteTime": {
     "end_time": "2017-12-06T23:53:20.706902Z",
     "start_time": "2017-12-06T23:53:20.582387Z"
    },
    "collapsed": true
   },
   "outputs": [],
   "source": [
    "from sklearn.linear_model import LogisticRegression\n",
    "logregress = LogisticRegression(solver = 'lbfgs')"
   ]
  },
  {
   "cell_type": "code",
   "execution_count": 7,
   "metadata": {
    "ExecuteTime": {
     "end_time": "2017-12-06T23:53:44.517632Z",
     "start_time": "2017-12-06T23:53:21.497343Z"
    }
   },
   "outputs": [
    {
     "data": {
      "text/plain": [
       "LogisticRegression(C=1.0, class_weight=None, dual=False, fit_intercept=True,\n",
       "          intercept_scaling=1, max_iter=100, multi_class='ovr', n_jobs=1,\n",
       "          penalty='l2', random_state=None, solver='lbfgs', tol=0.0001,\n",
       "          verbose=0, warm_start=False)"
      ]
     },
     "execution_count": 7,
     "metadata": {},
     "output_type": "execute_result"
    }
   ],
   "source": [
    "logregress.fit(X_train, y_train)"
   ]
  },
  {
   "cell_type": "code",
   "execution_count": 8,
   "metadata": {
    "ExecuteTime": {
     "end_time": "2017-12-06T23:53:47.165682Z",
     "start_time": "2017-12-06T23:53:47.133327Z"
    },
    "collapsed": true
   },
   "outputs": [],
   "source": [
    "logregress_predictions = logregress.predict(X_test)"
   ]
  },
  {
   "cell_type": "code",
   "execution_count": 9,
   "metadata": {
    "ExecuteTime": {
     "end_time": "2017-12-06T23:53:48.551823Z",
     "start_time": "2017-12-06T23:53:48.526746Z"
    }
   },
   "outputs": [
    {
     "name": "stdout",
     "output_type": "stream",
     "text": [
      "0.820689655172\n"
     ]
    }
   ],
   "source": [
    "logregress_score = logregress.score(X_test, y_test)\n",
    "print (logregress_score)"
   ]
  },
  {
   "cell_type": "code",
   "execution_count": 10,
   "metadata": {
    "ExecuteTime": {
     "end_time": "2017-12-06T23:53:51.222594Z",
     "start_time": "2017-12-06T23:53:51.218724Z"
    },
    "collapsed": true
   },
   "outputs": [],
   "source": [
    "#attempt using a different solver algo\n",
    "logregress2 = LogisticRegression(solver = 'sag')"
   ]
  },
  {
   "cell_type": "code",
   "execution_count": 11,
   "metadata": {
    "ExecuteTime": {
     "end_time": "2017-12-06T23:54:17.055826Z",
     "start_time": "2017-12-06T23:53:52.271483Z"
    }
   },
   "outputs": [
    {
     "data": {
      "text/plain": [
       "LogisticRegression(C=1.0, class_weight=None, dual=False, fit_intercept=True,\n",
       "          intercept_scaling=1, max_iter=100, multi_class='ovr', n_jobs=1,\n",
       "          penalty='l2', random_state=None, solver='sag', tol=0.0001,\n",
       "          verbose=0, warm_start=False)"
      ]
     },
     "execution_count": 11,
     "metadata": {},
     "output_type": "execute_result"
    }
   ],
   "source": [
    "logregress2.fit(X_train, y_train)"
   ]
  },
  {
   "cell_type": "code",
   "execution_count": 12,
   "metadata": {
    "ExecuteTime": {
     "end_time": "2017-12-06T23:54:19.144976Z",
     "start_time": "2017-12-06T23:54:19.114248Z"
    },
    "collapsed": true
   },
   "outputs": [],
   "source": [
    "logregress_predictions2 = logregress2.predict(X_test)"
   ]
  },
  {
   "cell_type": "code",
   "execution_count": 13,
   "metadata": {
    "ExecuteTime": {
     "end_time": "2017-12-06T23:54:20.183845Z",
     "start_time": "2017-12-06T23:54:20.159170Z"
    }
   },
   "outputs": [
    {
     "name": "stdout",
     "output_type": "stream",
     "text": [
      "0.820689655172\n"
     ]
    }
   ],
   "source": [
    "logregress_score2 = logregress2.score(X_test, y_test)\n",
    "print (logregress_score2)"
   ]
  },
  {
   "cell_type": "code",
   "execution_count": 14,
   "metadata": {
    "ExecuteTime": {
     "end_time": "2017-12-06T23:54:26.113798Z",
     "start_time": "2017-12-06T23:54:26.105090Z"
    }
   },
   "outputs": [
    {
     "name": "stdout",
     "output_type": "stream",
     "text": [
      "             precision    recall  f1-score   support\n",
      "\n",
      "          0       0.86      0.85      0.86        80\n",
      "          1       0.71      0.81      0.76        97\n",
      "          2       0.81      0.80      0.80        99\n",
      "          3       0.76      0.66      0.71        98\n",
      "          4       0.86      0.78      0.82        96\n",
      "          5       0.75      0.80      0.77        99\n",
      "          6       0.72      0.86      0.78        98\n",
      "          7       0.82      0.93      0.87        99\n",
      "          8       0.91      0.86      0.89       100\n",
      "          9       0.84      0.88      0.86        99\n",
      "         10       0.91      0.92      0.92       100\n",
      "         11       0.90      0.85      0.88        99\n",
      "         12       0.83      0.84      0.83        98\n",
      "         13       0.78      0.80      0.79        99\n",
      "         14       0.87      0.89      0.88        99\n",
      "         15       0.77      0.88      0.82       100\n",
      "         16       0.82      0.88      0.85        91\n",
      "         17       0.86      0.87      0.87        94\n",
      "         18       0.90      0.68      0.77        77\n",
      "         19       0.84      0.41      0.55        63\n",
      "\n",
      "avg / total       0.82      0.82      0.82      1885\n",
      "\n"
     ]
    }
   ],
   "source": [
    "#Additional performance measures\n",
    "from sklearn.metrics import classification_report\n",
    "from sklearn.metrics import confusion_matrix\n",
    "print(classification_report(y_test, logregress_predictions))"
   ]
  },
  {
   "cell_type": "code",
   "execution_count": 15,
   "metadata": {
    "ExecuteTime": {
     "end_time": "2017-12-06T23:55:03.306375Z",
     "start_time": "2017-12-06T23:55:03.295076Z"
    }
   },
   "outputs": [
    {
     "name": "stdout",
     "output_type": "stream",
     "text": [
      "Confusion matrix:\n",
      "[[68  0  0  0  0  0  0  0  0  1  0  1  0  1  0  4  0  2  0  3]\n",
      " [ 0 79  3  1  0  6  2  0  0  0  0  0  1  1  1  1  0  1  0  1]\n",
      " [ 0  5 79  4  1  5  2  0  1  0  0  0  1  0  1  0  0  0  0  0]\n",
      " [ 0  4  8 65  4  1  4  1  1  0  1  1  3  2  1  0  0  1  1  0]\n",
      " [ 0  3  1  8 75  1  3  0  0  0  0  0  2  0  0  1  1  1  0  0]\n",
      " [ 0  6  7  3  1 79  0  1  1  1  0  0  0  0  0  0  0  0  0  0]\n",
      " [ 0  0  0  1  1  1 84  3  0  2  1  2  1  1  0  1  0  0  0  0]\n",
      " [ 0  1  0  0  0  0  2 92  0  0  0  0  1  2  1  0  0  0  0  0]\n",
      " [ 0  0  0  0  1  0  3  6 86  1  0  0  0  0  1  0  1  0  1  0]\n",
      " [ 0  1  0  1  0  1  2  0  0 87  4  0  0  3  0  0  0  0  0  0]\n",
      " [ 0  0  0  0  0  0  4  0  0  3 92  0  0  0  0  0  0  0  1  0]\n",
      " [ 0  2  0  0  1  4  2  0  1  2  1 84  0  0  0  0  1  1  0  0]\n",
      " [ 0  5  0  2  1  1  2  4  0  0  0  0 82  0  1  0  0  0  0  0]\n",
      " [ 0  1  0  0  0  0  3  3  2  1  0  1  1 79  3  1  1  2  1  0]\n",
      " [ 1  1  0  0  1  2  2  0  0  0  0  0  0  3 88  1  0  0  0  0]\n",
      " [ 1  3  0  0  1  3  0  0  0  0  1  0  1  0  0 88  0  1  0  1]\n",
      " [ 0  0  0  0  0  0  1  1  0  1  0  1  3  1  1  1 80  1  0  0]\n",
      " [ 0  0  0  0  0  2  0  1  1  2  0  1  1  1  1  1  0 82  1  0]\n",
      " [ 1  0  0  0  0  0  1  0  1  3  1  0  1  2  1  1 11  2 52  0]\n",
      " [ 8  0  0  0  0  0  0  0  0  0  0  2  1  5  1 15  3  1  1 26]]\n"
     ]
    }
   ],
   "source": [
    "#Confusion matrix. Higher values along the diagonal are better\n",
    "print(\"Confusion matrix:\\n%s\" % confusion_matrix(y_test, logregress_predictions))"
   ]
  },
  {
   "cell_type": "markdown",
   "metadata": {},
   "source": [
    "# Stochastic Gradient Descent"
   ]
  },
  {
   "cell_type": "code",
   "execution_count": 21,
   "metadata": {
    "ExecuteTime": {
     "end_time": "2017-12-05T04:24:01.219417Z",
     "start_time": "2017-12-05T04:24:00.543849Z"
    }
   },
   "outputs": [
    {
     "data": {
      "text/plain": [
       "SGDClassifier(alpha=0.0001, average=False, class_weight=None, epsilon=0.1,\n",
       "       eta0=0.0, fit_intercept=True, l1_ratio=0.15,\n",
       "       learning_rate='optimal', loss='hinge', n_iter=5, n_jobs=1,\n",
       "       penalty='l2', power_t=0.5, random_state=42, shuffle=True, verbose=0,\n",
       "       warm_start=False)"
      ]
     },
     "execution_count": 21,
     "metadata": {},
     "output_type": "execute_result"
    }
   ],
   "source": [
    "from sklearn.linear_model import SGDClassifier\n",
    "sgd_clf = SGDClassifier(random_state=42)\n",
    "sgd_clf.fit(X_train, y_train)"
   ]
  },
  {
   "cell_type": "code",
   "execution_count": 22,
   "metadata": {
    "ExecuteTime": {
     "end_time": "2017-12-05T04:24:04.613990Z",
     "start_time": "2017-12-05T04:24:04.584625Z"
    },
    "collapsed": true
   },
   "outputs": [],
   "source": [
    "sgd_predictions = sgd_clf.predict(X_test)"
   ]
  },
  {
   "cell_type": "code",
   "execution_count": 23,
   "metadata": {
    "ExecuteTime": {
     "end_time": "2017-12-05T04:24:08.057822Z",
     "start_time": "2017-12-05T04:24:08.033854Z"
    }
   },
   "outputs": [
    {
     "name": "stdout",
     "output_type": "stream",
     "text": [
      "0.872148541114\n"
     ]
    }
   ],
   "source": [
    "sgd_score = sgd_clf.score(X_test, y_test)\n",
    "print(sgd_score)"
   ]
  },
  {
   "cell_type": "code",
   "execution_count": 24,
   "metadata": {
    "ExecuteTime": {
     "end_time": "2017-12-05T04:24:11.351432Z",
     "start_time": "2017-12-05T04:24:11.344512Z"
    }
   },
   "outputs": [
    {
     "name": "stdout",
     "output_type": "stream",
     "text": [
      "             precision    recall  f1-score   support\n",
      "\n",
      "          0       0.87      0.85      0.86        80\n",
      "          1       0.76      0.91      0.83        97\n",
      "          2       0.82      0.87      0.84        99\n",
      "          3       0.83      0.73      0.78        98\n",
      "          4       0.88      0.84      0.86        96\n",
      "          5       0.95      0.78      0.86        99\n",
      "          6       0.77      0.91      0.84        98\n",
      "          7       0.91      0.97      0.94        99\n",
      "          8       0.97      0.92      0.94       100\n",
      "          9       0.87      0.98      0.92        99\n",
      "         10       0.98      0.98      0.98       100\n",
      "         11       0.95      0.90      0.92        99\n",
      "         12       0.92      0.82      0.86        98\n",
      "         13       0.89      0.90      0.89        99\n",
      "         14       0.89      0.94      0.92        99\n",
      "         15       0.80      0.89      0.84       100\n",
      "         16       0.89      0.92      0.91        91\n",
      "         17       0.78      0.97      0.87        94\n",
      "         18       0.96      0.71      0.82        77\n",
      "         19       0.86      0.48      0.61        63\n",
      "\n",
      "avg / total       0.88      0.87      0.87      1885\n",
      "\n"
     ]
    }
   ],
   "source": [
    "print(classification_report(y_test, sgd_predictions))"
   ]
  },
  {
   "cell_type": "code",
   "execution_count": 25,
   "metadata": {
    "ExecuteTime": {
     "end_time": "2017-12-05T04:24:14.722272Z",
     "start_time": "2017-12-05T04:24:14.713760Z"
    }
   },
   "outputs": [
    {
     "name": "stdout",
     "output_type": "stream",
     "text": [
      "Confusion matrix:\n",
      "[[68  0  0  0  0  0  0  0  0  1  0  1  0  0  0  3  0  2  0  5]\n",
      " [ 0 88  2  1  0  2  2  0  0  1  0  0  0  0  0  0  0  1  0  0]\n",
      " [ 0  5 86  2  2  1  2  0  0  0  0  0  0  0  1  0  0  0  0  0]\n",
      " [ 1  4  5 72  5  0  5  0  1  0  0  0  2  0  2  0  0  1  0  0]\n",
      " [ 0  3  2  4 81  0  3  0  0  0  0  0  1  0  0  0  0  2  0  0]\n",
      " [ 0  4  8  4  1 77  0  0  0  2  0  0  0  0  1  0  0  2  0  0]\n",
      " [ 0  0  1  2  0  0 89  1  0  1  0  1  2  0  1  0  0  0  0  0]\n",
      " [ 0  2  0  0  0  0  0 96  1  0  0  0  0  0  0  0  0  0  0  0]\n",
      " [ 0  0  0  0  0  0  2  4 92  2  0  0  0  0  0  0  0  0  0  0]\n",
      " [ 0  1  0  0  0  0  0  0  0 97  1  0  0  0  0  0  0  0  0  0]\n",
      " [ 0  0  0  0  0  0  1  0  0  1 98  0  0  0  0  0  0  0  0  0]\n",
      " [ 0  2  0  0  0  0  3  1  1  0  0 89  0  1  0  1  0  1  0  0]\n",
      " [ 0  3  0  2  2  0  4  3  0  0  0  1 80  1  2  0  0  0  0  0]\n",
      " [ 0  0  0  0  0  0  1  1  0  1  0  0  0 89  1  1  0  4  1  0]\n",
      " [ 1  2  0  0  1  0  1  0  0  0  0  0  0  1 93  0  0  0  0  0]\n",
      " [ 3  2  0  0  0  1  1  0  0  1  0  0  1  1  0 89  0  1  0  0]\n",
      " [ 0  0  0  0  0  0  1  0  0  1  0  1  1  1  0  0 84  2  0  0]\n",
      " [ 0  0  0  0  0  0  0  0  0  1  0  1  0  0  0  0  1 91  0  0]\n",
      " [ 0  0  0  0  0  0  0  0  0  3  1  0  0  2  2  1  8  5 55  0]\n",
      " [ 5  0  1  0  0  0  0  0  0  0  0  0  0  4  1 16  1  4  1 30]]\n"
     ]
    }
   ],
   "source": [
    "print(\"Confusion matrix:\\n%s\" % confusion_matrix(y_test, sgd_predictions))"
   ]
  },
  {
   "cell_type": "markdown",
   "metadata": {},
   "source": [
    "# Scalable Vector Machine"
   ]
  },
  {
   "cell_type": "code",
   "execution_count": 26,
   "metadata": {
    "ExecuteTime": {
     "end_time": "2017-12-05T04:24:33.914377Z",
     "start_time": "2017-12-05T04:24:27.204720Z"
    }
   },
   "outputs": [
    {
     "data": {
      "text/plain": [
       "LinearSVC(C=1, class_weight=None, dual=True, fit_intercept=True,\n",
       "     intercept_scaling=1, loss='hinge', max_iter=1000, multi_class='ovr',\n",
       "     penalty='l2', random_state=None, tol=0.0001, verbose=0)"
      ]
     },
     "execution_count": 26,
     "metadata": {},
     "output_type": "execute_result"
    }
   ],
   "source": [
    "from sklearn.svm import LinearSVC\n",
    "\n",
    "scalable_vec_machine = LinearSVC(C=1, loss=\"hinge\")\n",
    "scalable_vec_machine.fit(X_train, y_train)"
   ]
  },
  {
   "cell_type": "code",
   "execution_count": 27,
   "metadata": {
    "ExecuteTime": {
     "end_time": "2017-12-05T04:24:37.409764Z",
     "start_time": "2017-12-05T04:24:37.394784Z"
    },
    "collapsed": true
   },
   "outputs": [],
   "source": [
    "svm_predictions = scalable_vec_machine.predict(X_test)"
   ]
  },
  {
   "cell_type": "code",
   "execution_count": 28,
   "metadata": {
    "ExecuteTime": {
     "end_time": "2017-12-05T04:24:40.030488Z",
     "start_time": "2017-12-05T04:24:40.014395Z"
    }
   },
   "outputs": [
    {
     "name": "stdout",
     "output_type": "stream",
     "text": [
      "0.893899204244\n"
     ]
    }
   ],
   "source": [
    "svn_score = scalable_vec_machine.score(X_test, y_test)\n",
    "print(svn_score)"
   ]
  },
  {
   "cell_type": "code",
   "execution_count": 29,
   "metadata": {
    "ExecuteTime": {
     "end_time": "2017-12-05T04:24:43.401894Z",
     "start_time": "2017-12-05T04:24:43.395168Z"
    }
   },
   "outputs": [
    {
     "name": "stdout",
     "output_type": "stream",
     "text": [
      "             precision    recall  f1-score   support\n",
      "\n",
      "          0       0.84      0.88      0.86        80\n",
      "          1       0.81      0.88      0.84        97\n",
      "          2       0.83      0.87      0.85        99\n",
      "          3       0.81      0.81      0.81        98\n",
      "          4       0.93      0.86      0.90        96\n",
      "          5       0.92      0.88      0.90        99\n",
      "          6       0.84      0.89      0.87        98\n",
      "          7       0.92      0.98      0.95        99\n",
      "          8       0.97      0.95      0.96       100\n",
      "          9       0.92      0.99      0.95        99\n",
      "         10       0.96      0.99      0.98       100\n",
      "         11       0.96      0.92      0.94        99\n",
      "         12       0.91      0.86      0.88        98\n",
      "         13       0.93      0.89      0.91        99\n",
      "         14       0.93      0.94      0.93        99\n",
      "         15       0.78      0.92      0.84       100\n",
      "         16       0.90      0.95      0.92        91\n",
      "         17       0.91      0.96      0.93        94\n",
      "         18       0.97      0.79      0.87        77\n",
      "         19       0.89      0.54      0.67        63\n",
      "\n",
      "avg / total       0.90      0.89      0.89      1885\n",
      "\n"
     ]
    }
   ],
   "source": [
    "print(classification_report(y_test, svm_predictions))"
   ]
  },
  {
   "cell_type": "code",
   "execution_count": 30,
   "metadata": {
    "ExecuteTime": {
     "end_time": "2017-12-05T04:24:52.174256Z",
     "start_time": "2017-12-05T04:24:52.165115Z"
    }
   },
   "outputs": [
    {
     "name": "stdout",
     "output_type": "stream",
     "text": [
      "Confusion matrix:\n",
      "[[70  0  0  0  0  0  0  0  0  1  0  1  0  0  0  4  0  0  0  4]\n",
      " [ 0 85  2  1  0  4  2  0  0  1  0  0  1  0  0  0  0  1  0  0]\n",
      " [ 0  5 86  4  1  1  1  0  0  0  0  0  0  0  1  0  0  0  0  0]\n",
      " [ 0  3  5 79  3  1  3  0  1  0  0  0  1  1  1  0  0  0  0  0]\n",
      " [ 0  3  2  4 83  0  0  0  0  0  1  0  1  0  0  0  0  2  0  0]\n",
      " [ 0  2  6  3  0 87  0  0  0  1  0  0  0  0  0  0  0  0  0  0]\n",
      " [ 1  0  0  3  0  0 87  2  0  0  0  1  2  0  1  1  0  0  0  0]\n",
      " [ 0  1  0  1  0  0  0 97  0  0  0  0  0  0  0  0  0  0  0  0]\n",
      " [ 0  0  0  0  0  0  2  2 95  1  0  0  0  0  0  0  0  0  0  0]\n",
      " [ 0  1  0  0  0  0  0  0  0 98  0  0  0  0  0  0  0  0  0  0]\n",
      " [ 0  0  0  0  0  0  0  0  0  1 99  0  0  0  0  0  0  0  0  0]\n",
      " [ 0  1  0  0  0  0  3  0  1  0  0 91  0  0  1  1  0  1  0  0]\n",
      " [ 0  2  1  2  1  1  2  3  0  0  0  0 84  2  0  0  0  0  0  0]\n",
      " [ 0  0  0  0  0  0  2  2  0  1  1  0  0 88  1  1  0  2  1  0]\n",
      " [ 1  1  0  0  1  0  1  0  1  0  0  0  0  1 93  0  0  0  0  0]\n",
      " [ 3  1  0  0  0  1  0  0  0  0  1  0  1  0  0 92  0  1  0  0]\n",
      " [ 0  0  0  0  0  0  0  0  0  1  0  1  1  1  0  0 86  1  0  0]\n",
      " [ 0  0  0  0  0  0  0  0  0  1  0  1  0  0  0  1  1 90  0  0]\n",
      " [ 1  0  0  0  0  0  0  0  0  1  1  0  1  1  1  2  8  0 61  0]\n",
      " [ 7  0  1  0  0  0  0  0  0  0  0  0  0  1  1 16  1  1  1 34]]\n"
     ]
    }
   ],
   "source": [
    "print(\"Confusion matrix:\\n%s\" % confusion_matrix(y_test, svm_predictions))"
   ]
  },
  {
   "cell_type": "markdown",
   "metadata": {
    "collapsed": true
   },
   "source": [
    "# Perceptron"
   ]
  },
  {
   "cell_type": "code",
   "execution_count": 16,
   "metadata": {
    "ExecuteTime": {
     "end_time": "2017-12-06T23:55:13.083344Z",
     "start_time": "2017-12-06T23:55:13.080339Z"
    },
    "collapsed": true
   },
   "outputs": [],
   "source": [
    "from sklearn.linear_model import Perceptron"
   ]
  },
  {
   "cell_type": "code",
   "execution_count": 17,
   "metadata": {
    "ExecuteTime": {
     "end_time": "2017-12-06T23:55:15.486413Z",
     "start_time": "2017-12-06T23:55:14.855426Z"
    }
   },
   "outputs": [
    {
     "data": {
      "text/plain": [
       "Perceptron(alpha=0.0001, class_weight=None, eta0=1.0, fit_intercept=True,\n",
       "      n_iter=5, n_jobs=1, penalty=None, random_state=0, shuffle=True,\n",
       "      verbose=0, warm_start=False)"
      ]
     },
     "execution_count": 17,
     "metadata": {},
     "output_type": "execute_result"
    }
   ],
   "source": [
    "perceptron_clf = Perceptron()\n",
    "perceptron_clf.fit(X_train, y_train)"
   ]
  },
  {
   "cell_type": "code",
   "execution_count": 18,
   "metadata": {
    "ExecuteTime": {
     "end_time": "2017-12-06T23:55:19.048886Z",
     "start_time": "2017-12-06T23:55:19.019135Z"
    },
    "collapsed": true
   },
   "outputs": [],
   "source": [
    "perceptron_predictions = perceptron_clf.predict(X_test)"
   ]
  },
  {
   "cell_type": "code",
   "execution_count": 19,
   "metadata": {
    "ExecuteTime": {
     "end_time": "2017-12-06T23:55:23.103915Z",
     "start_time": "2017-12-06T23:55:22.985269Z"
    }
   },
   "outputs": [
    {
     "name": "stdout",
     "output_type": "stream",
     "text": [
      "0.98520134426\n"
     ]
    }
   ],
   "source": [
    "perceptron_score = perceptron_clf.score(X_train, y_train)\n",
    "print(perceptron_score)"
   ]
  },
  {
   "cell_type": "code",
   "execution_count": 20,
   "metadata": {
    "ExecuteTime": {
     "end_time": "2017-12-06T23:55:25.866625Z",
     "start_time": "2017-12-06T23:55:25.859660Z"
    }
   },
   "outputs": [
    {
     "name": "stdout",
     "output_type": "stream",
     "text": [
      "             precision    recall  f1-score   support\n",
      "\n",
      "          0       0.88      0.80      0.84        80\n",
      "          1       0.87      0.80      0.83        97\n",
      "          2       0.84      0.85      0.84        99\n",
      "          3       0.74      0.74      0.74        98\n",
      "          4       0.86      0.83      0.85        96\n",
      "          5       0.89      0.80      0.84        99\n",
      "          6       0.86      0.86      0.86        98\n",
      "          7       0.90      0.94      0.92        99\n",
      "          8       0.87      0.94      0.90       100\n",
      "          9       0.94      0.93      0.93        99\n",
      "         10       0.95      0.99      0.97       100\n",
      "         11       0.99      0.80      0.88        99\n",
      "         12       0.71      0.89      0.79        98\n",
      "         13       0.98      0.83      0.90        99\n",
      "         14       0.98      0.83      0.90        99\n",
      "         15       0.95      0.81      0.88       100\n",
      "         16       0.92      0.93      0.93        91\n",
      "         17       0.95      0.96      0.95        94\n",
      "         18       0.71      0.91      0.80        77\n",
      "         19       0.59      0.84      0.69        63\n",
      "\n",
      "avg / total       0.88      0.86      0.87      1885\n",
      "\n"
     ]
    }
   ],
   "source": [
    "print(classification_report(y_test, perceptron_predictions))"
   ]
  },
  {
   "cell_type": "code",
   "execution_count": 21,
   "metadata": {
    "ExecuteTime": {
     "end_time": "2017-12-06T23:55:29.764581Z",
     "start_time": "2017-12-06T23:55:29.755251Z"
    }
   },
   "outputs": [
    {
     "name": "stdout",
     "output_type": "stream",
     "text": [
      "Confusion matrix:\n",
      "[[64  0  0  0  0  0  0  0  0  1  0  1  0  0  0  1  0  0  1 12]\n",
      " [ 2 78  2  2  0  5  2  0  1  1  0  0  2  0  0  0  0  1  0  1]\n",
      " [ 0  5 84  6  2  0  0  0  2  0  0  0  0  0  0  0  0  0  0  0]\n",
      " [ 0  1  2 73  6  0  3  3  1  0  2  0  5  0  1  0  0  0  0  1]\n",
      " [ 0  1  2  7 80  1  0  0  1  0  0  0  4  0  0  0  0  0  0  0]\n",
      " [ 1  2  6  2  0 79  0  0  2  1  0  0  4  1  0  1  0  0  0  0]\n",
      " [ 0  0  0  4  2  1 84  1  1  0  0  0  4  0  0  0  0  0  0  1]\n",
      " [ 0  0  0  2  1  0  0 93  0  0  0  0  1  0  0  0  0  0  1  1]\n",
      " [ 0  0  0  0  0  0  0  2 94  2  0  0  1  0  0  0  0  0  0  1]\n",
      " [ 0  0  0  0  0  0  0  0  1 92  3  0  1  0  0  0  1  1  0  0]\n",
      " [ 0  0  0  0  0  0  0  0  0  0 99  0  0  0  0  0  0  1  0  0]\n",
      " [ 0  0  0  1  0  0  3  0  2  0  0 79  4  0  0  0  1  0  5  4]\n",
      " [ 0  2  1  1  1  0  2  2  0  0  0  0 87  1  0  0  0  0  1  0]\n",
      " [ 0  0  1  0  0  0  3  2  0  0  0  0  2 82  0  0  0  1  4  4]\n",
      " [ 1  0  0  0  1  2  1  0  1  0  0  0  4  0 82  0  0  0  5  2]\n",
      " [ 1  1  1  0  0  1  0  0  1  0  0  0  1  0  0 81  2  0  4  7]\n",
      " [ 0  0  0  0  0  0  0  0  0  0  0  0  2  0  0  0 85  0  3  1]\n",
      " [ 0  0  0  0  0  0  0  0  0  0  0  0  0  0  0  1  1 90  2  0]\n",
      " [ 0  0  0  0  0  0  0  0  1  1  0  0  1  0  1  0  1  0 70  2]\n",
      " [ 4  0  1  0  0  0  0  0  0  0  0  0  0  0  0  1  1  1  2 53]]\n"
     ]
    }
   ],
   "source": [
    "print(\"Confusion matrix:\\n%s\" % confusion_matrix(y_test, perceptron_predictions))"
   ]
  },
  {
   "cell_type": "markdown",
   "metadata": {},
   "source": [
    "# Multilayer Perceptron"
   ]
  },
  {
   "cell_type": "code",
   "execution_count": 22,
   "metadata": {
    "ExecuteTime": {
     "end_time": "2017-12-06T23:56:04.066575Z",
     "start_time": "2017-12-06T23:56:04.056654Z"
    },
    "collapsed": true
   },
   "outputs": [],
   "source": [
    "from sklearn.neural_network import MLPClassifier"
   ]
  },
  {
   "cell_type": "code",
   "execution_count": 23,
   "metadata": {
    "ExecuteTime": {
     "end_time": "2017-12-06T23:56:22.331245Z",
     "start_time": "2017-12-06T23:56:22.327552Z"
    },
    "collapsed": true
   },
   "outputs": [],
   "source": [
    "mlp_clf = MLPClassifier(solver='sgd', activation='relu', hidden_layer_sizes=(100), alpha=0.0001,\n",
    "                       learning_rate_init=0.001, learning_rate='adaptive', verbose=True)"
   ]
  },
  {
   "cell_type": "code",
   "execution_count": 24,
   "metadata": {
    "ExecuteTime": {
     "end_time": "2017-12-07T01:45:08.040408Z",
     "start_time": "2017-12-06T23:57:20.685416Z"
    }
   },
   "outputs": [
    {
     "name": "stdout",
     "output_type": "stream",
     "text": [
      "Iteration 1, loss = 3.00582464\n",
      "Iteration 2, loss = 3.00237079\n",
      "Iteration 3, loss = 2.99935629\n",
      "Iteration 4, loss = 2.99666383\n",
      "Iteration 5, loss = 2.99411789\n",
      "Iteration 6, loss = 2.99174368\n",
      "Iteration 7, loss = 2.98948836\n",
      "Iteration 8, loss = 2.98738209\n",
      "Iteration 9, loss = 2.98541827\n",
      "Iteration 10, loss = 2.98355509\n",
      "Iteration 11, loss = 2.98175783\n",
      "Iteration 12, loss = 2.98002962\n",
      "Iteration 13, loss = 2.97835035\n",
      "Iteration 14, loss = 2.97672849\n",
      "Iteration 15, loss = 2.97513257\n",
      "Iteration 16, loss = 2.97355106\n",
      "Iteration 17, loss = 2.97200609\n",
      "Iteration 18, loss = 2.97045902\n",
      "Iteration 19, loss = 2.96892434\n",
      "Iteration 20, loss = 2.96739260\n",
      "Iteration 21, loss = 2.96587025\n",
      "Iteration 22, loss = 2.96435707\n",
      "Iteration 23, loss = 2.96283463\n",
      "Iteration 24, loss = 2.96129997\n",
      "Iteration 25, loss = 2.95975896\n",
      "Iteration 26, loss = 2.95821770\n",
      "Iteration 27, loss = 2.95665335\n",
      "Iteration 28, loss = 2.95508772\n",
      "Iteration 29, loss = 2.95349620\n",
      "Iteration 30, loss = 2.95189571\n",
      "Iteration 31, loss = 2.95026701\n",
      "Iteration 32, loss = 2.94862805\n",
      "Iteration 33, loss = 2.94696944\n",
      "Iteration 34, loss = 2.94528215\n",
      "Iteration 35, loss = 2.94359979\n",
      "Iteration 36, loss = 2.94185573\n",
      "Iteration 37, loss = 2.94011946\n",
      "Iteration 38, loss = 2.93835365\n",
      "Iteration 39, loss = 2.93657723\n",
      "Iteration 40, loss = 2.93475657\n",
      "Iteration 41, loss = 2.93291680\n",
      "Iteration 42, loss = 2.93106817\n",
      "Iteration 43, loss = 2.92917108\n",
      "Iteration 44, loss = 2.92727326\n",
      "Iteration 45, loss = 2.92533605\n",
      "Iteration 46, loss = 2.92338349\n",
      "Iteration 47, loss = 2.92139918\n",
      "Iteration 48, loss = 2.91936597\n",
      "Iteration 49, loss = 2.91732538\n",
      "Iteration 50, loss = 2.91526357\n",
      "Iteration 51, loss = 2.91317010\n",
      "Iteration 52, loss = 2.91103887\n",
      "Iteration 53, loss = 2.90888337\n",
      "Iteration 54, loss = 2.90667817\n",
      "Iteration 55, loss = 2.90445838\n",
      "Iteration 56, loss = 2.90222718\n",
      "Iteration 57, loss = 2.89993636\n",
      "Iteration 58, loss = 2.89760489\n",
      "Iteration 59, loss = 2.89524874\n",
      "Iteration 60, loss = 2.89289465\n",
      "Iteration 61, loss = 2.89049416\n",
      "Iteration 62, loss = 2.88806949\n",
      "Iteration 63, loss = 2.88562837\n",
      "Iteration 64, loss = 2.88315209\n",
      "Iteration 65, loss = 2.88065139\n",
      "Iteration 66, loss = 2.87807965\n",
      "Iteration 67, loss = 2.87551570\n",
      "Iteration 68, loss = 2.87291957\n",
      "Iteration 69, loss = 2.87030171\n",
      "Iteration 70, loss = 2.86764801\n",
      "Iteration 71, loss = 2.86497217\n",
      "Iteration 72, loss = 2.86227496\n",
      "Iteration 73, loss = 2.85956649\n",
      "Iteration 74, loss = 2.85682802\n",
      "Iteration 75, loss = 2.85408093\n",
      "Iteration 76, loss = 2.85132136\n",
      "Iteration 77, loss = 2.84851516\n",
      "Iteration 78, loss = 2.84571703\n",
      "Iteration 79, loss = 2.84288601\n",
      "Iteration 80, loss = 2.84002359\n",
      "Iteration 81, loss = 2.83716385\n",
      "Iteration 82, loss = 2.83427044\n",
      "Iteration 83, loss = 2.83138312\n",
      "Iteration 84, loss = 2.82845849\n",
      "Iteration 85, loss = 2.82549183\n",
      "Iteration 86, loss = 2.82251268\n",
      "Iteration 87, loss = 2.81954848\n",
      "Iteration 88, loss = 2.81654707\n",
      "Iteration 89, loss = 2.81353193\n",
      "Iteration 90, loss = 2.81054521\n",
      "Iteration 91, loss = 2.80750522\n",
      "Iteration 92, loss = 2.80446702\n",
      "Iteration 93, loss = 2.80145059\n",
      "Iteration 94, loss = 2.79838746\n",
      "Iteration 95, loss = 2.79533846\n",
      "Iteration 96, loss = 2.79228249\n",
      "Iteration 97, loss = 2.78922106\n",
      "Iteration 98, loss = 2.78614916\n",
      "Iteration 99, loss = 2.78308434\n",
      "Iteration 100, loss = 2.78001437\n",
      "Iteration 101, loss = 2.77692845\n",
      "Iteration 102, loss = 2.77384216\n",
      "Iteration 103, loss = 2.77076746\n",
      "Iteration 104, loss = 2.76764565\n",
      "Iteration 105, loss = 2.76456272\n",
      "Iteration 106, loss = 2.76147150\n",
      "Iteration 107, loss = 2.75837703\n",
      "Iteration 108, loss = 2.75527477\n",
      "Iteration 109, loss = 2.75217768\n",
      "Iteration 110, loss = 2.74905936\n",
      "Iteration 111, loss = 2.74597046\n",
      "Iteration 112, loss = 2.74282875\n",
      "Iteration 113, loss = 2.73972494\n",
      "Iteration 114, loss = 2.73659127\n",
      "Iteration 115, loss = 2.73347560\n",
      "Iteration 116, loss = 2.73036252\n",
      "Iteration 117, loss = 2.72723801\n",
      "Iteration 118, loss = 2.72410329\n",
      "Iteration 119, loss = 2.72098453\n",
      "Iteration 120, loss = 2.71784807\n",
      "Iteration 121, loss = 2.71470247\n",
      "Iteration 122, loss = 2.71158411\n",
      "Iteration 123, loss = 2.70843396\n",
      "Iteration 124, loss = 2.70530951\n",
      "Iteration 125, loss = 2.70212054\n",
      "Iteration 126, loss = 2.69896262\n",
      "Iteration 127, loss = 2.69579609\n",
      "Iteration 128, loss = 2.69264674\n",
      "Iteration 129, loss = 2.68945899\n",
      "Iteration 130, loss = 2.68627778\n",
      "Iteration 131, loss = 2.68309510\n",
      "Iteration 132, loss = 2.67990880\n",
      "Iteration 133, loss = 2.67669413\n",
      "Iteration 134, loss = 2.67348122\n",
      "Iteration 135, loss = 2.67029095\n",
      "Iteration 136, loss = 2.66704165\n",
      "Iteration 137, loss = 2.66383313\n",
      "Iteration 138, loss = 2.66058437\n",
      "Iteration 139, loss = 2.65733208\n",
      "Iteration 140, loss = 2.65409113\n",
      "Iteration 141, loss = 2.65085017\n",
      "Iteration 142, loss = 2.64758636\n",
      "Iteration 143, loss = 2.64434629\n",
      "Iteration 144, loss = 2.64105093\n",
      "Iteration 145, loss = 2.63780197\n",
      "Iteration 146, loss = 2.63450110\n",
      "Iteration 147, loss = 2.63121016\n",
      "Iteration 148, loss = 2.62791594\n",
      "Iteration 149, loss = 2.62459184\n",
      "Iteration 150, loss = 2.62128771\n",
      "Iteration 151, loss = 2.61795655\n",
      "Iteration 152, loss = 2.61462620\n",
      "Iteration 153, loss = 2.61129459\n",
      "Iteration 154, loss = 2.60793874\n",
      "Iteration 155, loss = 2.60458194\n",
      "Iteration 156, loss = 2.60120463\n",
      "Iteration 157, loss = 2.59783927\n",
      "Iteration 158, loss = 2.59441687\n",
      "Iteration 159, loss = 2.59106530\n",
      "Iteration 160, loss = 2.58765676\n",
      "Iteration 161, loss = 2.58421374\n",
      "Iteration 162, loss = 2.58083537\n",
      "Iteration 163, loss = 2.57740128\n",
      "Iteration 164, loss = 2.57395102\n",
      "Iteration 165, loss = 2.57048778\n",
      "Iteration 166, loss = 2.56701977\n",
      "Iteration 167, loss = 2.56354733\n",
      "Iteration 168, loss = 2.56008758\n",
      "Iteration 169, loss = 2.55660398\n",
      "Iteration 170, loss = 2.55313334\n",
      "Iteration 171, loss = 2.54963456\n",
      "Iteration 172, loss = 2.54613683\n",
      "Iteration 173, loss = 2.54259657\n",
      "Iteration 174, loss = 2.53906529\n",
      "Iteration 175, loss = 2.53554696\n",
      "Iteration 176, loss = 2.53198916\n",
      "Iteration 177, loss = 2.52842335\n",
      "Iteration 178, loss = 2.52486873\n",
      "Iteration 179, loss = 2.52129555\n",
      "Iteration 180, loss = 2.51771030\n",
      "Iteration 181, loss = 2.51410732\n",
      "Iteration 182, loss = 2.51051109\n",
      "Iteration 183, loss = 2.50690646\n",
      "Iteration 184, loss = 2.50328642\n",
      "Iteration 185, loss = 2.49965689\n",
      "Iteration 186, loss = 2.49600794\n",
      "Iteration 187, loss = 2.49237797\n",
      "Iteration 188, loss = 2.48872298\n",
      "Iteration 189, loss = 2.48508348\n",
      "Iteration 190, loss = 2.48136977\n",
      "Iteration 191, loss = 2.47769428\n",
      "Iteration 192, loss = 2.47402693\n",
      "Iteration 193, loss = 2.47033938\n",
      "Iteration 194, loss = 2.46664310\n",
      "Iteration 195, loss = 2.46293852\n",
      "Iteration 196, loss = 2.45919463\n",
      "Iteration 197, loss = 2.45549331\n",
      "Iteration 198, loss = 2.45174171\n",
      "Iteration 199, loss = 2.44802600\n",
      "Iteration 200, loss = 2.44424220\n"
     ]
    },
    {
     "name": "stderr",
     "output_type": "stream",
     "text": [
      "/Users/developer/anaconda/lib/python3.6/site-packages/sklearn/neural_network/multilayer_perceptron.py:563: ConvergenceWarning: Stochastic Optimizer: Maximum iterations reached and the optimization hasn't converged yet.\n",
      "  % (), ConvergenceWarning)\n"
     ]
    },
    {
     "data": {
      "text/plain": [
       "MLPClassifier(activation='relu', alpha=0.0001, batch_size='auto', beta_1=0.9,\n",
       "       beta_2=0.999, early_stopping=False, epsilon=1e-08,\n",
       "       hidden_layer_sizes=100, learning_rate='adaptive',\n",
       "       learning_rate_init=0.001, max_iter=200, momentum=0.9,\n",
       "       nesterovs_momentum=True, power_t=0.5, random_state=None,\n",
       "       shuffle=True, solver='sgd', tol=0.0001, validation_fraction=0.1,\n",
       "       verbose=True, warm_start=False)"
      ]
     },
     "execution_count": 24,
     "metadata": {},
     "output_type": "execute_result"
    }
   ],
   "source": [
    "mlp_clf.fit(X_train, y_train)"
   ]
  },
  {
   "cell_type": "code",
   "execution_count": 25,
   "metadata": {
    "ExecuteTime": {
     "end_time": "2017-12-07T01:50:56.513984Z",
     "start_time": "2017-12-07T01:50:56.446973Z"
    },
    "collapsed": true
   },
   "outputs": [],
   "source": [
    "mlp_predictions = mlp_clf.predict(X_test)"
   ]
  },
  {
   "cell_type": "code",
   "execution_count": 26,
   "metadata": {
    "ExecuteTime": {
     "end_time": "2017-12-07T01:51:05.839759Z",
     "start_time": "2017-12-07T01:51:05.794313Z"
    }
   },
   "outputs": [
    {
     "name": "stdout",
     "output_type": "stream",
     "text": [
      "0.376127320955\n"
     ]
    }
   ],
   "source": [
    "mlp_score = mlp_clf.score(X_test, y_test)\n",
    "print(mlp_score)"
   ]
  },
  {
   "cell_type": "code",
   "execution_count": 27,
   "metadata": {
    "ExecuteTime": {
     "end_time": "2017-12-07T01:51:08.802152Z",
     "start_time": "2017-12-07T01:51:08.786711Z"
    }
   },
   "outputs": [
    {
     "name": "stdout",
     "output_type": "stream",
     "text": [
      "             precision    recall  f1-score   support\n",
      "\n",
      "          0       0.56      0.17      0.27        80\n",
      "          1       0.33      0.27      0.30        97\n",
      "          2       0.58      0.58      0.58        99\n",
      "          3       0.43      0.43      0.43        98\n",
      "          4       0.59      0.24      0.34        96\n",
      "          5       0.37      0.34      0.36        99\n",
      "          6       0.32      0.88      0.47        98\n",
      "          7       0.75      0.15      0.25        99\n",
      "          8       0.43      0.45      0.44       100\n",
      "          9       0.38      0.36      0.37        99\n",
      "         10       0.40      0.67      0.50       100\n",
      "         11       0.42      0.60      0.49        99\n",
      "         12       0.50      0.04      0.08        98\n",
      "         13       0.27      0.31      0.29        99\n",
      "         14       0.64      0.32      0.43        99\n",
      "         15       0.26      0.70      0.38       100\n",
      "         16       0.42      0.16      0.24        91\n",
      "         17       0.29      0.55      0.38        94\n",
      "         18       1.00      0.01      0.03        77\n",
      "         19       0.00      0.00      0.00        63\n",
      "\n",
      "avg / total       0.45      0.38      0.34      1885\n",
      "\n"
     ]
    },
    {
     "name": "stderr",
     "output_type": "stream",
     "text": [
      "/Users/developer/anaconda/lib/python3.6/site-packages/sklearn/metrics/classification.py:1113: UndefinedMetricWarning: Precision and F-score are ill-defined and being set to 0.0 in labels with no predicted samples.\n",
      "  'precision', 'predicted', average, warn_for)\n"
     ]
    }
   ],
   "source": [
    "print(classification_report(y_test, mlp_predictions))"
   ]
  },
  {
   "cell_type": "code",
   "execution_count": 28,
   "metadata": {
    "ExecuteTime": {
     "end_time": "2017-12-07T01:51:21.140207Z",
     "start_time": "2017-12-07T01:51:21.127736Z"
    }
   },
   "outputs": [
    {
     "name": "stdout",
     "output_type": "stream",
     "text": [
      "Confusion matrix:\n",
      "[[14  0  0  0  1  1  1  0  3 10  0  6  0  2  1 29  1 11  0  0]\n",
      " [ 0 26  7  1  2 10 22  0  1  4  3  4  0  7  3  4  0  3  0  0]\n",
      " [ 0  2 57  7  0  2 16  0  3  2  2  2  0  4  0  2  0  0  0  0]\n",
      " [ 0  7  7 42  5  3 15  0  3  3  2  2  0  4  1  3  0  1  0  0]\n",
      " [ 1  1  2 22 23  6 15  1  2  2  5  4  1  7  1  0  1  2  0  0]\n",
      " [ 0  6  8  5  0 34 27  0  3  1  1  7  1  3  1  2  0  0  0  0]\n",
      " [ 0  2  0  3  1  2 86  0  0  2  0  0  0  1  0  1  0  0  0  0]\n",
      " [ 1  4  1  4  4  2  7 15 21  3 12  7  0  3  1  6  1  7  0  0]\n",
      " [ 1  1  2  3  0  3 12  1 45  2 11  3  0  8  1  3  3  1  0  0]\n",
      " [ 0  1  0  2  0  1 10  0  1 36 29  1  0  2  0 10  1  5  0  0]\n",
      " [ 0  0  0  0  0  0  9  0  0  6 67  6  0  0  0  5  1  6  0  0]\n",
      " [ 0  2  2  1  1  3  7  0  1  1  2 59  0  6  1  9  0  4  0  0]\n",
      " [ 0  7  4  7  2  8 20  2  4  1  7 12  4  8  2  4  0  6  0  0]\n",
      " [ 0  8  0  0  0  5  3  0  0  2  8  6  0 31  1 23  0 12  0  0]\n",
      " [ 2  4  3  0  0  3  9  0  3  4  4  3  1 10 32 11  0 10  0  0]\n",
      " [ 0  3  2  0  0  2  3  0  0  2  1  2  0  5  1 70  0  9  0  0]\n",
      " [ 0  2  1  0  0  3  2  0  3  4  8  7  1  3  1 18 15 23  0  0]\n",
      " [ 0  2  2  0  0  3  3  0  2  1  0  4  0  6  2 14  3 52  0  0]\n",
      " [ 5  0  0  0  0  0  2  0  6  6  3  2  0  1  1 22  9 19  1  0]\n",
      " [ 1  0  0  0  0  1  0  1  3  4  2  4  0  5  0 33  1  8  0  0]]\n"
     ]
    }
   ],
   "source": [
    "print(\"Confusion matrix:\\n%s\" % confusion_matrix(y_test, mlp_predictions))"
   ]
  },
  {
   "cell_type": "markdown",
   "metadata": {},
   "source": [
    "# Citations"
   ]
  },
  {
   "cell_type": "markdown",
   "metadata": {},
   "source": [
    "This experiment and notebook leverage libraries and packages made available through the scikit-learn project. Necessary citation is made here: Scikit-learn: Machine Learning in Python, Pedregosa et al., JMLR 12, pp. 2825-2830, 2011."
   ]
  }
 ],
 "metadata": {
  "kernelspec": {
   "display_name": "Python 3",
   "language": "python",
   "name": "python3"
  },
  "language_info": {
   "codemirror_mode": {
    "name": "ipython",
    "version": 3
   },
   "file_extension": ".py",
   "mimetype": "text/x-python",
   "name": "python",
   "nbconvert_exporter": "python",
   "pygments_lexer": "ipython3",
   "version": "3.6.1"
  }
 },
 "nbformat": 4,
 "nbformat_minor": 2
}
